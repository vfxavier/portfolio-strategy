{
 "cells": [
  {
   "cell_type": "markdown",
   "metadata": {},
   "source": [
    "# Setup"
   ]
  },
  {
   "cell_type": "code",
   "execution_count": 1,
   "metadata": {},
   "outputs": [],
   "source": [
    "import matplotlib.pyplot as plt\n",
    "import seaborn as sns\n",
    "import plotly.graph_objects as go\n",
    "import plotly.io as pio\n",
    "pio.templates.default = \"none\"\n",
    "\n",
    "import pandas as pd\n",
    "import numpy as np\n",
    "from sklearn.metrics import mean_squared_error, r2_score, confusion_matrix, accuracy_score, auc, precision_score, recall_score\n",
    "from sklearn import cluster\n",
    "from sklearn.cluster import KMeans\n",
    "from sklearn.model_selection import train_test_split\n",
    "import xgboost as xgb\n",
    "import pickle\n",
    "\n",
    "pd.options.display.float_format = '{:,.2f}'.format\n",
    "\n",
    "simulated_source = pd.read_csv('../data/interim/simulated.csv')"
   ]
  },
  {
   "cell_type": "code",
   "execution_count": 2,
   "metadata": {},
   "outputs": [
    {
     "data": {
      "text/html": [
       "<div>\n",
       "<style scoped>\n",
       "    .dataframe tbody tr th:only-of-type {\n",
       "        vertical-align: middle;\n",
       "    }\n",
       "\n",
       "    .dataframe tbody tr th {\n",
       "        vertical-align: top;\n",
       "    }\n",
       "\n",
       "    .dataframe thead th {\n",
       "        text-align: right;\n",
       "    }\n",
       "</style>\n",
       "<table border=\"1\" class=\"dataframe\">\n",
       "  <thead>\n",
       "    <tr style=\"text-align: right;\">\n",
       "      <th></th>\n",
       "      <th>rooms</th>\n",
       "      <th>garages</th>\n",
       "      <th>useful_area</th>\n",
       "      <th>latitude</th>\n",
       "      <th>longitude</th>\n",
       "      <th>value</th>\n",
       "      <th>interior_quality</th>\n",
       "      <th>time_on_market</th>\n",
       "      <th>sold</th>\n",
       "      <th>value_log1p</th>\n",
       "      <th>value_log1p_zscore</th>\n",
       "      <th>time_on_market_agg</th>\n",
       "    </tr>\n",
       "  </thead>\n",
       "  <tbody>\n",
       "    <tr>\n",
       "      <th>0</th>\n",
       "      <td>3.00</td>\n",
       "      <td>2.00</td>\n",
       "      <td>77</td>\n",
       "      <td>-23.62</td>\n",
       "      <td>-46.74</td>\n",
       "      <td>686126</td>\n",
       "      <td>2</td>\n",
       "      <td>75.84</td>\n",
       "      <td>0</td>\n",
       "      <td>13.44</td>\n",
       "      <td>-0.84</td>\n",
       "      <td>(75, 90]</td>\n",
       "    </tr>\n",
       "    <tr>\n",
       "      <th>1</th>\n",
       "      <td>1.00</td>\n",
       "      <td>1.00</td>\n",
       "      <td>35</td>\n",
       "      <td>-23.55</td>\n",
       "      <td>-46.65</td>\n",
       "      <td>675152</td>\n",
       "      <td>3</td>\n",
       "      <td>215.49</td>\n",
       "      <td>0</td>\n",
       "      <td>13.42</td>\n",
       "      <td>-0.87</td>\n",
       "      <td>(210, 225]</td>\n",
       "    </tr>\n",
       "    <tr>\n",
       "      <th>2</th>\n",
       "      <td>3.00</td>\n",
       "      <td>2.00</td>\n",
       "      <td>97</td>\n",
       "      <td>-23.61</td>\n",
       "      <td>-46.63</td>\n",
       "      <td>871258</td>\n",
       "      <td>2</td>\n",
       "      <td>92.05</td>\n",
       "      <td>0</td>\n",
       "      <td>13.68</td>\n",
       "      <td>-0.48</td>\n",
       "      <td>(90, 105]</td>\n",
       "    </tr>\n",
       "    <tr>\n",
       "      <th>3</th>\n",
       "      <td>3.00</td>\n",
       "      <td>3.00</td>\n",
       "      <td>102</td>\n",
       "      <td>-23.54</td>\n",
       "      <td>-46.57</td>\n",
       "      <td>648740</td>\n",
       "      <td>3</td>\n",
       "      <td>32.00</td>\n",
       "      <td>1</td>\n",
       "      <td>13.38</td>\n",
       "      <td>-0.93</td>\n",
       "      <td>(30, 45]</td>\n",
       "    </tr>\n",
       "    <tr>\n",
       "      <th>4</th>\n",
       "      <td>2.00</td>\n",
       "      <td>1.00</td>\n",
       "      <td>78</td>\n",
       "      <td>-23.59</td>\n",
       "      <td>-46.63</td>\n",
       "      <td>968643</td>\n",
       "      <td>2</td>\n",
       "      <td>319.57</td>\n",
       "      <td>0</td>\n",
       "      <td>13.78</td>\n",
       "      <td>-0.32</td>\n",
       "      <td>(315, 330]</td>\n",
       "    </tr>\n",
       "  </tbody>\n",
       "</table>\n",
       "</div>"
      ],
      "text/plain": [
       "   rooms  garages  useful_area  latitude  longitude   value  interior_quality  \\\n",
       "0   3.00     2.00           77    -23.62     -46.74  686126                 2   \n",
       "1   1.00     1.00           35    -23.55     -46.65  675152                 3   \n",
       "2   3.00     2.00           97    -23.61     -46.63  871258                 2   \n",
       "3   3.00     3.00          102    -23.54     -46.57  648740                 3   \n",
       "4   2.00     1.00           78    -23.59     -46.63  968643                 2   \n",
       "\n",
       "   time_on_market  sold  value_log1p  value_log1p_zscore time_on_market_agg  \n",
       "0           75.84     0        13.44               -0.84           (75, 90]  \n",
       "1          215.49     0        13.42               -0.87         (210, 225]  \n",
       "2           92.05     0        13.68               -0.48          (90, 105]  \n",
       "3           32.00     1        13.38               -0.93           (30, 45]  \n",
       "4          319.57     0        13.78               -0.32         (315, 330]  "
      ]
     },
     "execution_count": 2,
     "metadata": {},
     "output_type": "execute_result"
    }
   ],
   "source": [
    "simulated_source.head()"
   ]
  },
  {
   "cell_type": "code",
   "execution_count": 3,
   "metadata": {},
   "outputs": [
    {
     "data": {
      "text/html": [
       "<div>\n",
       "<style scoped>\n",
       "    .dataframe tbody tr th:only-of-type {\n",
       "        vertical-align: middle;\n",
       "    }\n",
       "\n",
       "    .dataframe tbody tr th {\n",
       "        vertical-align: top;\n",
       "    }\n",
       "\n",
       "    .dataframe thead th {\n",
       "        text-align: right;\n",
       "    }\n",
       "</style>\n",
       "<table border=\"1\" class=\"dataframe\">\n",
       "  <thead>\n",
       "    <tr style=\"text-align: right;\">\n",
       "      <th></th>\n",
       "      <th>rooms</th>\n",
       "      <th>garages</th>\n",
       "      <th>useful_area</th>\n",
       "      <th>latitude</th>\n",
       "      <th>longitude</th>\n",
       "      <th>value</th>\n",
       "      <th>interior_quality</th>\n",
       "      <th>time_on_market</th>\n",
       "      <th>sold</th>\n",
       "    </tr>\n",
       "  </thead>\n",
       "  <tbody>\n",
       "    <tr>\n",
       "      <th>0</th>\n",
       "      <td>3.00</td>\n",
       "      <td>2.00</td>\n",
       "      <td>77</td>\n",
       "      <td>-23.62</td>\n",
       "      <td>-46.74</td>\n",
       "      <td>686126</td>\n",
       "      <td>2</td>\n",
       "      <td>75.84</td>\n",
       "      <td>0</td>\n",
       "    </tr>\n",
       "    <tr>\n",
       "      <th>1</th>\n",
       "      <td>1.00</td>\n",
       "      <td>1.00</td>\n",
       "      <td>35</td>\n",
       "      <td>-23.55</td>\n",
       "      <td>-46.65</td>\n",
       "      <td>675152</td>\n",
       "      <td>3</td>\n",
       "      <td>215.49</td>\n",
       "      <td>0</td>\n",
       "    </tr>\n",
       "    <tr>\n",
       "      <th>2</th>\n",
       "      <td>3.00</td>\n",
       "      <td>2.00</td>\n",
       "      <td>97</td>\n",
       "      <td>-23.61</td>\n",
       "      <td>-46.63</td>\n",
       "      <td>871258</td>\n",
       "      <td>2</td>\n",
       "      <td>92.05</td>\n",
       "      <td>0</td>\n",
       "    </tr>\n",
       "    <tr>\n",
       "      <th>3</th>\n",
       "      <td>3.00</td>\n",
       "      <td>3.00</td>\n",
       "      <td>102</td>\n",
       "      <td>-23.54</td>\n",
       "      <td>-46.57</td>\n",
       "      <td>648740</td>\n",
       "      <td>3</td>\n",
       "      <td>32.00</td>\n",
       "      <td>1</td>\n",
       "    </tr>\n",
       "    <tr>\n",
       "      <th>4</th>\n",
       "      <td>2.00</td>\n",
       "      <td>1.00</td>\n",
       "      <td>78</td>\n",
       "      <td>-23.59</td>\n",
       "      <td>-46.63</td>\n",
       "      <td>968643</td>\n",
       "      <td>2</td>\n",
       "      <td>319.57</td>\n",
       "      <td>0</td>\n",
       "    </tr>\n",
       "  </tbody>\n",
       "</table>\n",
       "</div>"
      ],
      "text/plain": [
       "   rooms  garages  useful_area  latitude  longitude   value  interior_quality  \\\n",
       "0   3.00     2.00           77    -23.62     -46.74  686126                 2   \n",
       "1   1.00     1.00           35    -23.55     -46.65  675152                 3   \n",
       "2   3.00     2.00           97    -23.61     -46.63  871258                 2   \n",
       "3   3.00     3.00          102    -23.54     -46.57  648740                 3   \n",
       "4   2.00     1.00           78    -23.59     -46.63  968643                 2   \n",
       "\n",
       "   time_on_market  sold  \n",
       "0           75.84     0  \n",
       "1          215.49     0  \n",
       "2           92.05     0  \n",
       "3           32.00     1  \n",
       "4          319.57     0  "
      ]
     },
     "execution_count": 3,
     "metadata": {},
     "output_type": "execute_result"
    }
   ],
   "source": [
    "simulated = simulated_source.copy()\n",
    "simulated = simulated.iloc[:,:-3]\n",
    "simulated.head()"
   ]
  },
  {
   "cell_type": "markdown",
   "metadata": {},
   "source": [
    "## Adição de colunas com preços reduzidos"
   ]
  },
  {
   "cell_type": "code",
   "execution_count": 4,
   "metadata": {},
   "outputs": [
    {
     "data": {
      "text/html": [
       "<div>\n",
       "<style scoped>\n",
       "    .dataframe tbody tr th:only-of-type {\n",
       "        vertical-align: middle;\n",
       "    }\n",
       "\n",
       "    .dataframe tbody tr th {\n",
       "        vertical-align: top;\n",
       "    }\n",
       "\n",
       "    .dataframe thead th {\n",
       "        text-align: right;\n",
       "    }\n",
       "</style>\n",
       "<table border=\"1\" class=\"dataframe\">\n",
       "  <thead>\n",
       "    <tr style=\"text-align: right;\">\n",
       "      <th></th>\n",
       "      <th>rooms</th>\n",
       "      <th>garages</th>\n",
       "      <th>useful_area</th>\n",
       "      <th>latitude</th>\n",
       "      <th>longitude</th>\n",
       "      <th>value</th>\n",
       "      <th>interior_quality</th>\n",
       "      <th>time_on_market</th>\n",
       "      <th>sold</th>\n",
       "      <th>value-5</th>\n",
       "      <th>value-10</th>\n",
       "      <th>value-15</th>\n",
       "      <th>value-20</th>\n",
       "    </tr>\n",
       "  </thead>\n",
       "  <tbody>\n",
       "    <tr>\n",
       "      <th>0</th>\n",
       "      <td>3.00</td>\n",
       "      <td>2.00</td>\n",
       "      <td>77</td>\n",
       "      <td>-23.62</td>\n",
       "      <td>-46.74</td>\n",
       "      <td>686126</td>\n",
       "      <td>2</td>\n",
       "      <td>75.84</td>\n",
       "      <td>0</td>\n",
       "      <td>651,819.70</td>\n",
       "      <td>617,513.40</td>\n",
       "      <td>583,207.10</td>\n",
       "      <td>548,900.80</td>\n",
       "    </tr>\n",
       "    <tr>\n",
       "      <th>1</th>\n",
       "      <td>1.00</td>\n",
       "      <td>1.00</td>\n",
       "      <td>35</td>\n",
       "      <td>-23.55</td>\n",
       "      <td>-46.65</td>\n",
       "      <td>675152</td>\n",
       "      <td>3</td>\n",
       "      <td>215.49</td>\n",
       "      <td>0</td>\n",
       "      <td>641,394.40</td>\n",
       "      <td>607,636.80</td>\n",
       "      <td>573,879.20</td>\n",
       "      <td>540,121.60</td>\n",
       "    </tr>\n",
       "    <tr>\n",
       "      <th>2</th>\n",
       "      <td>3.00</td>\n",
       "      <td>2.00</td>\n",
       "      <td>97</td>\n",
       "      <td>-23.61</td>\n",
       "      <td>-46.63</td>\n",
       "      <td>871258</td>\n",
       "      <td>2</td>\n",
       "      <td>92.05</td>\n",
       "      <td>0</td>\n",
       "      <td>827,695.10</td>\n",
       "      <td>784,132.20</td>\n",
       "      <td>740,569.30</td>\n",
       "      <td>697,006.40</td>\n",
       "    </tr>\n",
       "    <tr>\n",
       "      <th>3</th>\n",
       "      <td>3.00</td>\n",
       "      <td>3.00</td>\n",
       "      <td>102</td>\n",
       "      <td>-23.54</td>\n",
       "      <td>-46.57</td>\n",
       "      <td>648740</td>\n",
       "      <td>3</td>\n",
       "      <td>32.00</td>\n",
       "      <td>1</td>\n",
       "      <td>616,303.00</td>\n",
       "      <td>583,866.00</td>\n",
       "      <td>551,429.00</td>\n",
       "      <td>518,992.00</td>\n",
       "    </tr>\n",
       "    <tr>\n",
       "      <th>4</th>\n",
       "      <td>2.00</td>\n",
       "      <td>1.00</td>\n",
       "      <td>78</td>\n",
       "      <td>-23.59</td>\n",
       "      <td>-46.63</td>\n",
       "      <td>968643</td>\n",
       "      <td>2</td>\n",
       "      <td>319.57</td>\n",
       "      <td>0</td>\n",
       "      <td>920,210.85</td>\n",
       "      <td>871,778.70</td>\n",
       "      <td>823,346.55</td>\n",
       "      <td>774,914.40</td>\n",
       "    </tr>\n",
       "  </tbody>\n",
       "</table>\n",
       "</div>"
      ],
      "text/plain": [
       "   rooms  garages  useful_area  latitude  longitude   value  interior_quality  \\\n",
       "0   3.00     2.00           77    -23.62     -46.74  686126                 2   \n",
       "1   1.00     1.00           35    -23.55     -46.65  675152                 3   \n",
       "2   3.00     2.00           97    -23.61     -46.63  871258                 2   \n",
       "3   3.00     3.00          102    -23.54     -46.57  648740                 3   \n",
       "4   2.00     1.00           78    -23.59     -46.63  968643                 2   \n",
       "\n",
       "   time_on_market  sold    value-5   value-10   value-15   value-20  \n",
       "0           75.84     0 651,819.70 617,513.40 583,207.10 548,900.80  \n",
       "1          215.49     0 641,394.40 607,636.80 573,879.20 540,121.60  \n",
       "2           92.05     0 827,695.10 784,132.20 740,569.30 697,006.40  \n",
       "3           32.00     1 616,303.00 583,866.00 551,429.00 518,992.00  \n",
       "4          319.57     0 920,210.85 871,778.70 823,346.55 774,914.40  "
      ]
     },
     "execution_count": 4,
     "metadata": {},
     "output_type": "execute_result"
    }
   ],
   "source": [
    "simulated['value-5'] = simulated['value'] * 0.95\n",
    "simulated['value-10'] = simulated['value'] * 0.90\n",
    "simulated['value-15'] = simulated['value'] * 0.85\n",
    "simulated['value-20'] = simulated['value'] * 0.80\n",
    "\n",
    "### Lista com colunas de valores para dropar antes de classificar\n",
    "artificial_values_list = ['value-5','value-10','value-15','value-20']\n",
    "\n",
    "simulated.head()"
   ]
  },
  {
   "cell_type": "code",
   "execution_count": 5,
   "metadata": {},
   "outputs": [],
   "source": [
    "# Function to train the model\n",
    "def train_regr(regrmodel):\n",
    "\n",
    "    regrmodel = regrmodel\n",
    "\n",
    "    regrmodel.fit(Xregr_train, yregr_train,\n",
    "            eval_set = [(Xregr_train, yregr_train), (Xregr_test, yregr_test)],\n",
    "            eval_metric = 'rmse',\n",
    "            early_stopping_rounds = 5,\n",
    "            verbose=True)\n",
    "\n",
    "    best_iteration = regrmodel.get_booster().best_ntree_limit\n",
    "    regrpreds = regrmodel.predict(Xregr_test, ntree_limit=best_iteration)\n",
    "    \n",
    "    return regrpreds, regrmodel, best_iteration\n",
    "\n",
    "\n",
    "# Function to evaluate some metrics\n",
    "def evaluate_metrics(regrpreds, yregr_test, Xregr_test, regrmodel, best_iteration):\n",
    "    rmse = np.sqrt(mean_squared_error(yregr_test, regrpreds))\n",
    "    r2 = r2_score(yregr_test, regrpreds, multioutput='variance_weighted')\n",
    "    \n",
    "    evals_result = regrmodel.evals_result()  \n",
    "    plt.rcParams[\"figure.figsize\"] = (8, 6)\n",
    "    xgb.plot_importance(regrmodel, max_num_features=None,grid=False)\n",
    "    plt.show()\n",
    "\n",
    "    range_evals = np.arange(0, len(evals_result['validation_0']['rmse']))\n",
    "\n",
    "    val_0 = evals_result['validation_0']['rmse']\n",
    "    val_1 = evals_result['validation_1']['rmse']\n",
    "    plt.figure(num=None, figsize=(8, 6), facecolor='w', edgecolor='k')\n",
    "    plt.plot(range_evals, val_1, range_evals, val_0)\n",
    "    plt.ylabel('Validation error')\n",
    "    plt.xlabel('Iteration')\n",
    "    plt.show()\n",
    "    \n",
    "    print(\"Best iteration: %f\" % (int(best_iteration)))\n",
    "    print(\"RMSE: %f\" % (rmse))\n",
    "    print(\"R2: %f\" % (r2))\n",
    "    print('Observed value single sample: {}'.format(yregr_test[0:1].tolist()[0]))\n",
    "    print('Predicted value single sample: {}'.format(int(regrmodel.predict(Xregr_test[0:1], ntree_limit=best_iteration)[0])))"
   ]
  },
  {
   "cell_type": "markdown",
   "metadata": {},
   "source": [
    "### Split\n",
    "A mesma divisão será usada tanto para a previsão quanto para a classificação."
   ]
  },
  {
   "cell_type": "code",
   "execution_count": 6,
   "metadata": {},
   "outputs": [],
   "source": [
    "train, test = train_test_split(simulated, test_size=0.2, random_state=23)"
   ]
  },
  {
   "cell_type": "code",
   "execution_count": 7,
   "metadata": {},
   "outputs": [],
   "source": [
    "###### dattasets para determinação de preço\n",
    "Xregr_train = train.drop([*artificial_values_list,'value','sold'],axis=1)\n",
    "yregr_train = train['value']\n",
    "\n",
    "Xregr_test = test.drop([*artificial_values_list,'value','sold'],axis=1)\n",
    "yregr_test = test['value']\n",
    "\n",
    "###### dattasets para determinação de preço sem time on market\n",
    "ntXregr_train = train.drop([*artificial_values_list,'value','sold','time_on_market'],axis=1)\n",
    "ntyregr_train = train['value']\n",
    "\n",
    "ntXregr_test = test.drop([*artificial_values_list,'value','sold','time_on_market'],axis=1)\n",
    "ntyregr_test = test['value']\n",
    "\n",
    "\n",
    "\n",
    "###### Class\n",
    "Xclass_train = train.drop([*artificial_values_list,'sold'],axis=1)\n",
    "yclass_train = train['sold']\n",
    "\n",
    "################################\n",
    "############ Arrumar ###########\n",
    "################################\n",
    "Xclass_test = test.drop('sold',axis=1)\n",
    "yclass_test = test['sold']\n",
    "\n"
   ]
  },
  {
   "cell_type": "code",
   "execution_count": 8,
   "metadata": {},
   "outputs": [
    {
     "data": {
      "text/html": [
       "<div>\n",
       "<style scoped>\n",
       "    .dataframe tbody tr th:only-of-type {\n",
       "        vertical-align: middle;\n",
       "    }\n",
       "\n",
       "    .dataframe tbody tr th {\n",
       "        vertical-align: top;\n",
       "    }\n",
       "\n",
       "    .dataframe thead th {\n",
       "        text-align: right;\n",
       "    }\n",
       "</style>\n",
       "<table border=\"1\" class=\"dataframe\">\n",
       "  <thead>\n",
       "    <tr style=\"text-align: right;\">\n",
       "      <th></th>\n",
       "      <th>rooms</th>\n",
       "      <th>garages</th>\n",
       "      <th>useful_area</th>\n",
       "      <th>latitude</th>\n",
       "      <th>longitude</th>\n",
       "      <th>interior_quality</th>\n",
       "      <th>time_on_market</th>\n",
       "    </tr>\n",
       "  </thead>\n",
       "  <tbody>\n",
       "    <tr>\n",
       "      <th>2847</th>\n",
       "      <td>3.00</td>\n",
       "      <td>2.00</td>\n",
       "      <td>145</td>\n",
       "      <td>-23.55</td>\n",
       "      <td>-46.66</td>\n",
       "      <td>1</td>\n",
       "      <td>162.16</td>\n",
       "    </tr>\n",
       "    <tr>\n",
       "      <th>3508</th>\n",
       "      <td>2.00</td>\n",
       "      <td>2.00</td>\n",
       "      <td>84</td>\n",
       "      <td>-23.60</td>\n",
       "      <td>-46.61</td>\n",
       "      <td>1</td>\n",
       "      <td>94.00</td>\n",
       "    </tr>\n",
       "    <tr>\n",
       "      <th>710</th>\n",
       "      <td>3.00</td>\n",
       "      <td>1.00</td>\n",
       "      <td>98</td>\n",
       "      <td>-23.61</td>\n",
       "      <td>-46.65</td>\n",
       "      <td>1</td>\n",
       "      <td>94.00</td>\n",
       "    </tr>\n",
       "    <tr>\n",
       "      <th>482</th>\n",
       "      <td>2.00</td>\n",
       "      <td>1.00</td>\n",
       "      <td>40</td>\n",
       "      <td>-23.59</td>\n",
       "      <td>-46.69</td>\n",
       "      <td>3</td>\n",
       "      <td>175.97</td>\n",
       "    </tr>\n",
       "    <tr>\n",
       "      <th>1423</th>\n",
       "      <td>3.00</td>\n",
       "      <td>1.00</td>\n",
       "      <td>81</td>\n",
       "      <td>-23.53</td>\n",
       "      <td>-46.73</td>\n",
       "      <td>1</td>\n",
       "      <td>10.00</td>\n",
       "    </tr>\n",
       "    <tr>\n",
       "      <th>...</th>\n",
       "      <td>...</td>\n",
       "      <td>...</td>\n",
       "      <td>...</td>\n",
       "      <td>...</td>\n",
       "      <td>...</td>\n",
       "      <td>...</td>\n",
       "      <td>...</td>\n",
       "    </tr>\n",
       "    <tr>\n",
       "      <th>2912</th>\n",
       "      <td>2.00</td>\n",
       "      <td>1.00</td>\n",
       "      <td>61</td>\n",
       "      <td>-23.58</td>\n",
       "      <td>-46.64</td>\n",
       "      <td>2</td>\n",
       "      <td>199.00</td>\n",
       "    </tr>\n",
       "    <tr>\n",
       "      <th>6208</th>\n",
       "      <td>1.00</td>\n",
       "      <td>1.00</td>\n",
       "      <td>39</td>\n",
       "      <td>-23.64</td>\n",
       "      <td>-46.64</td>\n",
       "      <td>2</td>\n",
       "      <td>107.00</td>\n",
       "    </tr>\n",
       "    <tr>\n",
       "      <th>4016</th>\n",
       "      <td>4.00</td>\n",
       "      <td>3.00</td>\n",
       "      <td>244</td>\n",
       "      <td>-23.53</td>\n",
       "      <td>-46.73</td>\n",
       "      <td>2</td>\n",
       "      <td>19.13</td>\n",
       "    </tr>\n",
       "    <tr>\n",
       "      <th>328</th>\n",
       "      <td>2.00</td>\n",
       "      <td>2.00</td>\n",
       "      <td>60</td>\n",
       "      <td>-23.64</td>\n",
       "      <td>-46.67</td>\n",
       "      <td>3</td>\n",
       "      <td>127.00</td>\n",
       "    </tr>\n",
       "    <tr>\n",
       "      <th>501</th>\n",
       "      <td>3.00</td>\n",
       "      <td>3.00</td>\n",
       "      <td>94</td>\n",
       "      <td>-23.65</td>\n",
       "      <td>-46.66</td>\n",
       "      <td>2</td>\n",
       "      <td>161.00</td>\n",
       "    </tr>\n",
       "  </tbody>\n",
       "</table>\n",
       "<p>1674 rows × 7 columns</p>\n",
       "</div>"
      ],
      "text/plain": [
       "      rooms  garages  useful_area  latitude  longitude  interior_quality  \\\n",
       "2847   3.00     2.00          145    -23.55     -46.66                 1   \n",
       "3508   2.00     2.00           84    -23.60     -46.61                 1   \n",
       "710    3.00     1.00           98    -23.61     -46.65                 1   \n",
       "482    2.00     1.00           40    -23.59     -46.69                 3   \n",
       "1423   3.00     1.00           81    -23.53     -46.73                 1   \n",
       "...     ...      ...          ...       ...        ...               ...   \n",
       "2912   2.00     1.00           61    -23.58     -46.64                 2   \n",
       "6208   1.00     1.00           39    -23.64     -46.64                 2   \n",
       "4016   4.00     3.00          244    -23.53     -46.73                 2   \n",
       "328    2.00     2.00           60    -23.64     -46.67                 3   \n",
       "501    3.00     3.00           94    -23.65     -46.66                 2   \n",
       "\n",
       "      time_on_market  \n",
       "2847          162.16  \n",
       "3508           94.00  \n",
       "710            94.00  \n",
       "482           175.97  \n",
       "1423           10.00  \n",
       "...              ...  \n",
       "2912          199.00  \n",
       "6208          107.00  \n",
       "4016           19.13  \n",
       "328           127.00  \n",
       "501           161.00  \n",
       "\n",
       "[1674 rows x 7 columns]"
      ]
     },
     "execution_count": 8,
     "metadata": {},
     "output_type": "execute_result"
    }
   ],
   "source": [
    "Xregr_test"
   ]
  },
  {
   "cell_type": "markdown",
   "metadata": {},
   "source": [
    "# Predição do valor usando modelo XGBoost"
   ]
  },
  {
   "cell_type": "markdown",
   "metadata": {},
   "source": [
    "### value com time_on_market"
   ]
  },
  {
   "cell_type": "code",
   "execution_count": 9,
   "metadata": {
    "tags": []
   },
   "outputs": [
    {
     "name": "stdout",
     "output_type": "stream",
     "text": [
      "[0]\tvalidation_0-rmse:1277975.00000\tvalidation_1-rmse:1304143.00000\n",
      "Multiple eval metrics have been passed: 'validation_1-rmse' will be used for early stopping.\n",
      "\n",
      "Will train until validation_1-rmse hasn't improved in 5 rounds.\n",
      "[1]\tvalidation_0-rmse:931409.62500\tvalidation_1-rmse:951088.31250\n",
      "[2]\tvalidation_0-rmse:696631.56250\tvalidation_1-rmse:712467.12500\n",
      "[3]\tvalidation_0-rmse:538006.00000\tvalidation_1-rmse:556080.31250\n",
      "[4]\tvalidation_0-rmse:433912.78125\tvalidation_1-rmse:460532.40625\n",
      "[5]\tvalidation_0-rmse:365902.15625\tvalidation_1-rmse:402637.12500\n",
      "[6]\tvalidation_0-rmse:324516.93750\tvalidation_1-rmse:369518.31250\n",
      "[7]\tvalidation_0-rmse:295670.40625\tvalidation_1-rmse:348740.40625\n",
      "[8]\tvalidation_0-rmse:277957.09375\tvalidation_1-rmse:339772.93750\n",
      "[9]\tvalidation_0-rmse:263967.50000\tvalidation_1-rmse:331952.90625\n",
      "[10]\tvalidation_0-rmse:256661.89062\tvalidation_1-rmse:329528.53125\n",
      "[11]\tvalidation_0-rmse:251326.20312\tvalidation_1-rmse:327976.43750\n",
      "[12]\tvalidation_0-rmse:246543.43750\tvalidation_1-rmse:326304.81250\n",
      "[13]\tvalidation_0-rmse:242492.75000\tvalidation_1-rmse:325518.28125\n",
      "[14]\tvalidation_0-rmse:237962.00000\tvalidation_1-rmse:323797.59375\n",
      "[15]\tvalidation_0-rmse:237122.31250\tvalidation_1-rmse:322550.37500\n",
      "[16]\tvalidation_0-rmse:235253.51562\tvalidation_1-rmse:322170.34375\n",
      "[17]\tvalidation_0-rmse:231432.15625\tvalidation_1-rmse:320843.28125\n",
      "[18]\tvalidation_0-rmse:229543.62500\tvalidation_1-rmse:319425.06250\n",
      "[19]\tvalidation_0-rmse:229079.54688\tvalidation_1-rmse:319774.15625\n",
      "[20]\tvalidation_0-rmse:227376.06250\tvalidation_1-rmse:318765.15625\n",
      "[21]\tvalidation_0-rmse:223867.42188\tvalidation_1-rmse:316588.53125\n",
      "[22]\tvalidation_0-rmse:221393.31250\tvalidation_1-rmse:316949.00000\n",
      "[23]\tvalidation_0-rmse:219843.75000\tvalidation_1-rmse:316692.65625\n",
      "[24]\tvalidation_0-rmse:219621.09375\tvalidation_1-rmse:316551.31250\n",
      "[25]\tvalidation_0-rmse:217503.78125\tvalidation_1-rmse:315020.00000\n",
      "[26]\tvalidation_0-rmse:215422.65625\tvalidation_1-rmse:315317.59375\n",
      "[27]\tvalidation_0-rmse:213929.92188\tvalidation_1-rmse:315168.03125\n",
      "[28]\tvalidation_0-rmse:213518.00000\tvalidation_1-rmse:314967.90625\n",
      "[29]\tvalidation_0-rmse:212928.64062\tvalidation_1-rmse:314917.18750\n",
      "[30]\tvalidation_0-rmse:210814.93750\tvalidation_1-rmse:314828.62500\n",
      "[31]\tvalidation_0-rmse:209469.45312\tvalidation_1-rmse:314832.09375\n",
      "[32]\tvalidation_0-rmse:207146.34375\tvalidation_1-rmse:315703.03125\n",
      "[33]\tvalidation_0-rmse:206410.50000\tvalidation_1-rmse:315763.00000\n",
      "[34]\tvalidation_0-rmse:204687.78125\tvalidation_1-rmse:315267.03125\n",
      "[35]\tvalidation_0-rmse:202302.00000\tvalidation_1-rmse:314563.59375\n",
      "[36]\tvalidation_0-rmse:201688.14062\tvalidation_1-rmse:313943.87500\n",
      "[37]\tvalidation_0-rmse:199240.85938\tvalidation_1-rmse:314053.65625\n",
      "[38]\tvalidation_0-rmse:198583.42188\tvalidation_1-rmse:314005.53125\n",
      "[39]\tvalidation_0-rmse:196209.42188\tvalidation_1-rmse:313412.56250\n",
      "[40]\tvalidation_0-rmse:194437.87500\tvalidation_1-rmse:312824.96875\n",
      "[41]\tvalidation_0-rmse:191659.07812\tvalidation_1-rmse:312580.12500\n",
      "[42]\tvalidation_0-rmse:189793.23438\tvalidation_1-rmse:312504.50000\n",
      "[43]\tvalidation_0-rmse:188212.25000\tvalidation_1-rmse:312625.34375\n",
      "[44]\tvalidation_0-rmse:188012.81250\tvalidation_1-rmse:312667.93750\n",
      "[45]\tvalidation_0-rmse:186658.09375\tvalidation_1-rmse:312668.50000\n",
      "[46]\tvalidation_0-rmse:186372.76562\tvalidation_1-rmse:312581.78125\n",
      "[47]\tvalidation_0-rmse:185780.14062\tvalidation_1-rmse:312389.50000\n",
      "[48]\tvalidation_0-rmse:184359.15625\tvalidation_1-rmse:312751.00000\n",
      "[49]\tvalidation_0-rmse:184014.39062\tvalidation_1-rmse:312740.71875\n",
      "[50]\tvalidation_0-rmse:183430.12500\tvalidation_1-rmse:312541.43750\n",
      "[51]\tvalidation_0-rmse:183309.53125\tvalidation_1-rmse:312551.75000\n",
      "[52]\tvalidation_0-rmse:182286.10938\tvalidation_1-rmse:312259.87500\n",
      "[53]\tvalidation_0-rmse:182169.03125\tvalidation_1-rmse:312173.81250\n",
      "[54]\tvalidation_0-rmse:180574.87500\tvalidation_1-rmse:312614.93750\n",
      "[55]\tvalidation_0-rmse:178505.78125\tvalidation_1-rmse:312577.93750\n",
      "[56]\tvalidation_0-rmse:177291.07812\tvalidation_1-rmse:312565.78125\n",
      "[57]\tvalidation_0-rmse:176291.15625\tvalidation_1-rmse:312406.87500\n",
      "[58]\tvalidation_0-rmse:175188.53125\tvalidation_1-rmse:312201.96875\n",
      "Stopping. Best iteration:\n",
      "[53]\tvalidation_0-rmse:182169.03125\tvalidation_1-rmse:312173.81250\n",
      "\n"
     ]
    },
    {
     "data": {
      "image/png": "[encoded data removed]",
      "text/plain": [
       "<Figure size 576x432 with 1 Axes>"
      ]
     },
     "metadata": {
      "needs_background": "light"
     },
     "output_type": "display_data"
    },
    {
     "data": {
      "image/png": "[encoded data removed]",
      "text/plain": [
       "<Figure size 576x432 with 1 Axes>"
      ]
     },
     "metadata": {},
     "output_type": "display_data"
    },
    {
     "name": "stdout",
     "output_type": "stream",
     "text": [
      "Best iteration: 54.000000\n",
      "RMSE: 312173.789414\n",
      "R2: 0.904939\n",
      "Observed value single sample: 1624930\n",
      "Predicted value single sample: 1527682\n"
     ]
    }
   ],
   "source": [
    "xg_regr = xgb.XGBRegressor()\n",
    "\n",
    "regrpreds, regrmodel, best_iteration = train_regr(xg_regr)\n",
    "\n",
    "# evaluate_metrics(regrpreds, regrmodel, best_iteration)\n",
    "evaluate_metrics(regrpreds, yregr_test, Xregr_test, regrmodel, best_iteration)\n",
    "\n",
    "\n",
    "# save model to file\n",
    "pickle.dump(regrmodel, open(\"../models/value-regressor.pickle.pkl\", \"wb\"))"
   ]
  },
  {
   "cell_type": "markdown",
   "metadata": {},
   "source": [
    "## value sem time_on_market"
   ]
  },
  {
   "cell_type": "code",
   "execution_count": 10,
   "metadata": {
    "tags": []
   },
   "outputs": [
    {
     "name": "stdout",
     "output_type": "stream",
     "text": [
      "[0]\tvalidation_0-rmse:1278021.75000\tvalidation_1-rmse:1304065.37500\n",
      "Multiple eval metrics have been passed: 'validation_1-rmse' will be used for early stopping.\n",
      "\n",
      "Will train until validation_1-rmse hasn't improved in 5 rounds.\n",
      "[1]\tvalidation_0-rmse:931305.12500\tvalidation_1-rmse:952117.50000\n",
      "[2]\tvalidation_0-rmse:696820.68750\tvalidation_1-rmse:713277.18750\n",
      "[3]\tvalidation_0-rmse:538929.18750\tvalidation_1-rmse:558631.87500\n",
      "[4]\tvalidation_0-rmse:435535.37500\tvalidation_1-rmse:460167.46875\n",
      "[5]\tvalidation_0-rmse:369802.06250\tvalidation_1-rmse:400882.28125\n",
      "[6]\tvalidation_0-rmse:327541.50000\tvalidation_1-rmse:365895.53125\n",
      "[7]\tvalidation_0-rmse:303462.50000\tvalidation_1-rmse:348636.78125\n",
      "[8]\tvalidation_0-rmse:285618.03125\tvalidation_1-rmse:337216.25000\n",
      "[9]\tvalidation_0-rmse:275444.37500\tvalidation_1-rmse:331961.84375\n",
      "[10]\tvalidation_0-rmse:267256.71875\tvalidation_1-rmse:327414.65625\n",
      "[11]\tvalidation_0-rmse:260228.18750\tvalidation_1-rmse:325729.46875\n",
      "[12]\tvalidation_0-rmse:256264.50000\tvalidation_1-rmse:323600.46875\n",
      "[13]\tvalidation_0-rmse:250778.07812\tvalidation_1-rmse:320124.68750\n",
      "[14]\tvalidation_0-rmse:247766.60938\tvalidation_1-rmse:319252.93750\n",
      "[15]\tvalidation_0-rmse:246426.43750\tvalidation_1-rmse:319007.93750\n",
      "[16]\tvalidation_0-rmse:245325.53125\tvalidation_1-rmse:318313.56250\n",
      "[17]\tvalidation_0-rmse:243021.79688\tvalidation_1-rmse:317732.53125\n",
      "[18]\tvalidation_0-rmse:241342.00000\tvalidation_1-rmse:318169.78125\n",
      "[19]\tvalidation_0-rmse:235968.79688\tvalidation_1-rmse:315885.28125\n",
      "[20]\tvalidation_0-rmse:234691.12500\tvalidation_1-rmse:315584.15625\n",
      "[21]\tvalidation_0-rmse:232654.92188\tvalidation_1-rmse:315331.90625\n",
      "[22]\tvalidation_0-rmse:231652.01562\tvalidation_1-rmse:314694.59375\n",
      "[23]\tvalidation_0-rmse:230974.37500\tvalidation_1-rmse:314249.12500\n",
      "[24]\tvalidation_0-rmse:227634.23438\tvalidation_1-rmse:312435.28125\n",
      "[25]\tvalidation_0-rmse:226979.51562\tvalidation_1-rmse:312750.65625\n",
      "[26]\tvalidation_0-rmse:224174.25000\tvalidation_1-rmse:312691.06250\n",
      "[27]\tvalidation_0-rmse:223763.92188\tvalidation_1-rmse:312717.81250\n",
      "[28]\tvalidation_0-rmse:223303.12500\tvalidation_1-rmse:312989.31250\n",
      "[29]\tvalidation_0-rmse:222663.64062\tvalidation_1-rmse:312885.18750\n",
      "Stopping. Best iteration:\n",
      "[24]\tvalidation_0-rmse:227634.23438\tvalidation_1-rmse:312435.28125\n",
      "\n"
     ]
    },
    {
     "data": {
      "image/png": "[encoded data removed]",
      "text/plain": [
       "<Figure size 576x432 with 1 Axes>"
      ]
     },
     "metadata": {
      "needs_background": "light"
     },
     "output_type": "display_data"
    },
    {
     "data": {
      "image/png": "[encoded data removed]",
      "text/plain": [
       "<Figure size 576x432 with 1 Axes>"
      ]
     },
     "metadata": {},
     "output_type": "display_data"
    },
    {
     "name": "stdout",
     "output_type": "stream",
     "text": [
      "Best iteration: 25.000000\n",
      "RMSE: 312435.270081\n",
      "R2: 0.904780\n",
      "Observed value single sample: 1624930\n",
      "Predicted value single sample: 1458843\n"
     ]
    }
   ],
   "source": [
    "ntxg_regr = xgb.XGBRegressor()\n",
    "\n",
    "ntxg_regr.fit(ntXregr_train, ntyregr_train,\n",
    "            eval_set = [(ntXregr_train, ntyregr_train), (ntXregr_test, ntyregr_test)],\n",
    "            eval_metric = 'rmse',\n",
    "            early_stopping_rounds = 5,\n",
    "            verbose=True)\n",
    "\n",
    "ntbest_iteration = ntxg_regr.get_booster().best_ntree_limit\n",
    "ntregrpreds = ntxg_regr.predict(ntXregr_test, ntree_limit=ntbest_iteration)\n",
    "\n",
    "\n",
    "evaluate_metrics(ntregrpreds, ntyregr_test, ntXregr_test, ntxg_regr, ntbest_iteration)\n",
    "\n",
    "pickle.dump(ntxg_regr, open(\"../models/value-regressor-notime.pickle.pkl\", \"wb\"))"
   ]
  },
  {
   "cell_type": "markdown",
   "metadata": {},
   "source": [
    "# Predição do valor dos imóveis vendidos usando XGBoost"
   ]
  },
  {
   "cell_type": "code",
   "execution_count": 11,
   "metadata": {},
   "outputs": [],
   "source": [
    "def train_class(classmodel,Xclass_test):\n",
    "\n",
    "    classmodel = classmodel\n",
    "\n",
    "    try:\n",
    "        Xclass_test = Xclass_test.drop(artificial_values_list,axis=1)\n",
    "    except:\n",
    "        pass\n",
    "\n",
    "    classmodel.fit(Xclass_train, yclass_train,\n",
    "            eval_set = [(Xclass_train, yclass_train), (Xclass_test, yclass_test)],\n",
    "            eval_metric = 'aucpr',\n",
    "            early_stopping_rounds = 5,\n",
    "            verbose=True)\n",
    "\n",
    "    xgb.plot_importance(classmodel, max_num_features=None,grid=False)\n",
    "    xgb.plot_importance(classmodel, max_num_features=None,grid=False,importance_type='gain',xlabel='gain')\n",
    "    \n",
    "    best_iteration = classmodel.get_booster().best_ntree_limit\n",
    "    classpreds = classmodel.predict(Xclass_test, ntree_limit=best_iteration)\n",
    "    classpreds_proba = classmodel.predict_proba(Xclass_test, ntree_limit=best_iteration)\n",
    "    \n",
    "    return classpreds_proba, classpreds, classmodel, best_iteration"
   ]
  },
  {
   "cell_type": "code",
   "execution_count": 12,
   "metadata": {},
   "outputs": [
    {
     "data": {
      "text/html": [
       "<div>\n",
       "<style scoped>\n",
       "    .dataframe tbody tr th:only-of-type {\n",
       "        vertical-align: middle;\n",
       "    }\n",
       "\n",
       "    .dataframe tbody tr th {\n",
       "        vertical-align: top;\n",
       "    }\n",
       "\n",
       "    .dataframe thead th {\n",
       "        text-align: right;\n",
       "    }\n",
       "</style>\n",
       "<table border=\"1\" class=\"dataframe\">\n",
       "  <thead>\n",
       "    <tr style=\"text-align: right;\">\n",
       "      <th></th>\n",
       "      <th>rooms</th>\n",
       "      <th>garages</th>\n",
       "      <th>useful_area</th>\n",
       "      <th>latitude</th>\n",
       "      <th>longitude</th>\n",
       "      <th>value</th>\n",
       "      <th>interior_quality</th>\n",
       "      <th>time_on_market</th>\n",
       "      <th>value-5</th>\n",
       "      <th>value-10</th>\n",
       "      <th>value-15</th>\n",
       "      <th>value-20</th>\n",
       "    </tr>\n",
       "  </thead>\n",
       "  <tbody>\n",
       "    <tr>\n",
       "      <th>2847</th>\n",
       "      <td>3.00</td>\n",
       "      <td>2.00</td>\n",
       "      <td>145</td>\n",
       "      <td>-23.55</td>\n",
       "      <td>-46.66</td>\n",
       "      <td>1624930</td>\n",
       "      <td>1</td>\n",
       "      <td>162.16</td>\n",
       "      <td>1,543,683.50</td>\n",
       "      <td>1,462,437.00</td>\n",
       "      <td>1,381,190.50</td>\n",
       "      <td>1,299,944.00</td>\n",
       "    </tr>\n",
       "    <tr>\n",
       "      <th>3508</th>\n",
       "      <td>2.00</td>\n",
       "      <td>2.00</td>\n",
       "      <td>84</td>\n",
       "      <td>-23.60</td>\n",
       "      <td>-46.61</td>\n",
       "      <td>678651</td>\n",
       "      <td>1</td>\n",
       "      <td>94.00</td>\n",
       "      <td>644,718.45</td>\n",
       "      <td>610,785.90</td>\n",
       "      <td>576,853.35</td>\n",
       "      <td>542,920.80</td>\n",
       "    </tr>\n",
       "    <tr>\n",
       "      <th>710</th>\n",
       "      <td>3.00</td>\n",
       "      <td>1.00</td>\n",
       "      <td>98</td>\n",
       "      <td>-23.61</td>\n",
       "      <td>-46.65</td>\n",
       "      <td>692217</td>\n",
       "      <td>1</td>\n",
       "      <td>94.00</td>\n",
       "      <td>657,606.15</td>\n",
       "      <td>622,995.30</td>\n",
       "      <td>588,384.45</td>\n",
       "      <td>553,773.60</td>\n",
       "    </tr>\n",
       "    <tr>\n",
       "      <th>482</th>\n",
       "      <td>2.00</td>\n",
       "      <td>1.00</td>\n",
       "      <td>40</td>\n",
       "      <td>-23.59</td>\n",
       "      <td>-46.69</td>\n",
       "      <td>685313</td>\n",
       "      <td>3</td>\n",
       "      <td>175.97</td>\n",
       "      <td>651,047.35</td>\n",
       "      <td>616,781.70</td>\n",
       "      <td>582,516.05</td>\n",
       "      <td>548,250.40</td>\n",
       "    </tr>\n",
       "    <tr>\n",
       "      <th>1423</th>\n",
       "      <td>3.00</td>\n",
       "      <td>1.00</td>\n",
       "      <td>81</td>\n",
       "      <td>-23.53</td>\n",
       "      <td>-46.73</td>\n",
       "      <td>429364</td>\n",
       "      <td>1</td>\n",
       "      <td>10.00</td>\n",
       "      <td>407,895.80</td>\n",
       "      <td>386,427.60</td>\n",
       "      <td>364,959.40</td>\n",
       "      <td>343,491.20</td>\n",
       "    </tr>\n",
       "    <tr>\n",
       "      <th>...</th>\n",
       "      <td>...</td>\n",
       "      <td>...</td>\n",
       "      <td>...</td>\n",
       "      <td>...</td>\n",
       "      <td>...</td>\n",
       "      <td>...</td>\n",
       "      <td>...</td>\n",
       "      <td>...</td>\n",
       "      <td>...</td>\n",
       "      <td>...</td>\n",
       "      <td>...</td>\n",
       "      <td>...</td>\n",
       "    </tr>\n",
       "    <tr>\n",
       "      <th>2912</th>\n",
       "      <td>2.00</td>\n",
       "      <td>1.00</td>\n",
       "      <td>61</td>\n",
       "      <td>-23.58</td>\n",
       "      <td>-46.64</td>\n",
       "      <td>722747</td>\n",
       "      <td>2</td>\n",
       "      <td>199.00</td>\n",
       "      <td>686,609.65</td>\n",
       "      <td>650,472.30</td>\n",
       "      <td>614,334.95</td>\n",
       "      <td>578,197.60</td>\n",
       "    </tr>\n",
       "    <tr>\n",
       "      <th>6208</th>\n",
       "      <td>1.00</td>\n",
       "      <td>1.00</td>\n",
       "      <td>39</td>\n",
       "      <td>-23.64</td>\n",
       "      <td>-46.64</td>\n",
       "      <td>385129</td>\n",
       "      <td>2</td>\n",
       "      <td>107.00</td>\n",
       "      <td>365,872.55</td>\n",
       "      <td>346,616.10</td>\n",
       "      <td>327,359.65</td>\n",
       "      <td>308,103.20</td>\n",
       "    </tr>\n",
       "    <tr>\n",
       "      <th>4016</th>\n",
       "      <td>4.00</td>\n",
       "      <td>3.00</td>\n",
       "      <td>244</td>\n",
       "      <td>-23.53</td>\n",
       "      <td>-46.73</td>\n",
       "      <td>2005810</td>\n",
       "      <td>2</td>\n",
       "      <td>19.13</td>\n",
       "      <td>1,905,519.50</td>\n",
       "      <td>1,805,229.00</td>\n",
       "      <td>1,704,938.50</td>\n",
       "      <td>1,604,648.00</td>\n",
       "    </tr>\n",
       "    <tr>\n",
       "      <th>328</th>\n",
       "      <td>2.00</td>\n",
       "      <td>2.00</td>\n",
       "      <td>60</td>\n",
       "      <td>-23.64</td>\n",
       "      <td>-46.67</td>\n",
       "      <td>417122</td>\n",
       "      <td>3</td>\n",
       "      <td>127.00</td>\n",
       "      <td>396,265.90</td>\n",
       "      <td>375,409.80</td>\n",
       "      <td>354,553.70</td>\n",
       "      <td>333,697.60</td>\n",
       "    </tr>\n",
       "    <tr>\n",
       "      <th>501</th>\n",
       "      <td>3.00</td>\n",
       "      <td>3.00</td>\n",
       "      <td>94</td>\n",
       "      <td>-23.65</td>\n",
       "      <td>-46.66</td>\n",
       "      <td>780834</td>\n",
       "      <td>2</td>\n",
       "      <td>161.00</td>\n",
       "      <td>741,792.30</td>\n",
       "      <td>702,750.60</td>\n",
       "      <td>663,708.90</td>\n",
       "      <td>624,667.20</td>\n",
       "    </tr>\n",
       "  </tbody>\n",
       "</table>\n",
       "<p>1674 rows × 12 columns</p>\n",
       "</div>"
      ],
      "text/plain": [
       "      rooms  garages  useful_area  latitude  longitude    value  \\\n",
       "2847   3.00     2.00          145    -23.55     -46.66  1624930   \n",
       "3508   2.00     2.00           84    -23.60     -46.61   678651   \n",
       "710    3.00     1.00           98    -23.61     -46.65   692217   \n",
       "482    2.00     1.00           40    -23.59     -46.69   685313   \n",
       "1423   3.00     1.00           81    -23.53     -46.73   429364   \n",
       "...     ...      ...          ...       ...        ...      ...   \n",
       "2912   2.00     1.00           61    -23.58     -46.64   722747   \n",
       "6208   1.00     1.00           39    -23.64     -46.64   385129   \n",
       "4016   4.00     3.00          244    -23.53     -46.73  2005810   \n",
       "328    2.00     2.00           60    -23.64     -46.67   417122   \n",
       "501    3.00     3.00           94    -23.65     -46.66   780834   \n",
       "\n",
       "      interior_quality  time_on_market      value-5     value-10     value-15  \\\n",
       "2847                 1          162.16 1,543,683.50 1,462,437.00 1,381,190.50   \n",
       "3508                 1           94.00   644,718.45   610,785.90   576,853.35   \n",
       "710                  1           94.00   657,606.15   622,995.30   588,384.45   \n",
       "482                  3          175.97   651,047.35   616,781.70   582,516.05   \n",
       "1423                 1           10.00   407,895.80   386,427.60   364,959.40   \n",
       "...                ...             ...          ...          ...          ...   \n",
       "2912                 2          199.00   686,609.65   650,472.30   614,334.95   \n",
       "6208                 2          107.00   365,872.55   346,616.10   327,359.65   \n",
       "4016                 2           19.13 1,905,519.50 1,805,229.00 1,704,938.50   \n",
       "328                  3          127.00   396,265.90   375,409.80   354,553.70   \n",
       "501                  2          161.00   741,792.30   702,750.60   663,708.90   \n",
       "\n",
       "         value-20  \n",
       "2847 1,299,944.00  \n",
       "3508   542,920.80  \n",
       "710    553,773.60  \n",
       "482    548,250.40  \n",
       "1423   343,491.20  \n",
       "...           ...  \n",
       "2912   578,197.60  \n",
       "6208   308,103.20  \n",
       "4016 1,604,648.00  \n",
       "328    333,697.60  \n",
       "501    624,667.20  \n",
       "\n",
       "[1674 rows x 12 columns]"
      ]
     },
     "execution_count": 12,
     "metadata": {},
     "output_type": "execute_result"
    }
   ],
   "source": [
    "Xclass_test"
   ]
  },
  {
   "cell_type": "code",
   "execution_count": 13,
   "metadata": {
    "tags": []
   },
   "outputs": [
    {
     "name": "stdout",
     "output_type": "stream",
     "text": [
      "[0]\tvalidation_0-aucpr:0.71613\tvalidation_1-aucpr:0.66917\n",
      "Multiple eval metrics have been passed: 'validation_1-aucpr' will be used for early stopping.\n",
      "\n",
      "Will train until validation_1-aucpr hasn't improved in 5 rounds.\n",
      "[1]\tvalidation_0-aucpr:0.74013\tvalidation_1-aucpr:0.68841\n",
      "[2]\tvalidation_0-aucpr:0.75300\tvalidation_1-aucpr:0.69295\n",
      "[3]\tvalidation_0-aucpr:0.76451\tvalidation_1-aucpr:0.69558\n",
      "[4]\tvalidation_0-aucpr:0.77219\tvalidation_1-aucpr:0.69759\n",
      "[5]\tvalidation_0-aucpr:0.77792\tvalidation_1-aucpr:0.70265\n",
      "[6]\tvalidation_0-aucpr:0.78131\tvalidation_1-aucpr:0.70354\n",
      "[7]\tvalidation_0-aucpr:0.78795\tvalidation_1-aucpr:0.70287\n",
      "[8]\tvalidation_0-aucpr:0.79230\tvalidation_1-aucpr:0.70315\n",
      "[9]\tvalidation_0-aucpr:0.79672\tvalidation_1-aucpr:0.71032\n",
      "[10]\tvalidation_0-aucpr:0.80161\tvalidation_1-aucpr:0.70967\n",
      "[11]\tvalidation_0-aucpr:0.80815\tvalidation_1-aucpr:0.71299\n",
      "[12]\tvalidation_0-aucpr:0.81125\tvalidation_1-aucpr:0.71969\n",
      "[13]\tvalidation_0-aucpr:0.82195\tvalidation_1-aucpr:0.72586\n",
      "[14]\tvalidation_0-aucpr:0.82505\tvalidation_1-aucpr:0.72949\n",
      "[15]\tvalidation_0-aucpr:0.83032\tvalidation_1-aucpr:0.72932\n",
      "[16]\tvalidation_0-aucpr:0.83355\tvalidation_1-aucpr:0.73044\n",
      "[17]\tvalidation_0-aucpr:0.83386\tvalidation_1-aucpr:0.73218\n",
      "[18]\tvalidation_0-aucpr:0.83875\tvalidation_1-aucpr:0.73149\n",
      "[19]\tvalidation_0-aucpr:0.84318\tvalidation_1-aucpr:0.72976\n",
      "[20]\tvalidation_0-aucpr:0.84552\tvalidation_1-aucpr:0.73015\n",
      "[21]\tvalidation_0-aucpr:0.85457\tvalidation_1-aucpr:0.73238\n",
      "[22]\tvalidation_0-aucpr:0.85584\tvalidation_1-aucpr:0.73691\n",
      "[23]\tvalidation_0-aucpr:0.86428\tvalidation_1-aucpr:0.74857\n",
      "[24]\tvalidation_0-aucpr:0.86582\tvalidation_1-aucpr:0.74743\n",
      "[25]\tvalidation_0-aucpr:0.86636\tvalidation_1-aucpr:0.75084\n",
      "[26]\tvalidation_0-aucpr:0.86837\tvalidation_1-aucpr:0.75030\n",
      "[27]\tvalidation_0-aucpr:0.87435\tvalidation_1-aucpr:0.75248\n",
      "[28]\tvalidation_0-aucpr:0.87706\tvalidation_1-aucpr:0.75855\n",
      "[29]\tvalidation_0-aucpr:0.88220\tvalidation_1-aucpr:0.76084\n",
      "[30]\tvalidation_0-aucpr:0.88609\tvalidation_1-aucpr:0.75838\n",
      "[31]\tvalidation_0-aucpr:0.88616\tvalidation_1-aucpr:0.75975\n",
      "[32]\tvalidation_0-aucpr:0.88696\tvalidation_1-aucpr:0.75970\n",
      "[33]\tvalidation_0-aucpr:0.88786\tvalidation_1-aucpr:0.75882\n",
      "[34]\tvalidation_0-aucpr:0.89357\tvalidation_1-aucpr:0.76682\n",
      "[35]\tvalidation_0-aucpr:0.89674\tvalidation_1-aucpr:0.76494\n",
      "[36]\tvalidation_0-aucpr:0.90200\tvalidation_1-aucpr:0.76310\n",
      "[37]\tvalidation_0-aucpr:0.90624\tvalidation_1-aucpr:0.75943\n",
      "[38]\tvalidation_0-aucpr:0.90767\tvalidation_1-aucpr:0.75932\n",
      "[39]\tvalidation_0-aucpr:0.90831\tvalidation_1-aucpr:0.76253\n",
      "Stopping. Best iteration:\n",
      "[34]\tvalidation_0-aucpr:0.89357\tvalidation_1-aucpr:0.76682\n",
      "\n"
     ]
    },
    {
     "data": {
      "image/png": "[encoded data removed]",
      "text/plain": [
       "<Figure size 576x432 with 1 Axes>"
      ]
     },
     "metadata": {
      "needs_background": "light"
     },
     "output_type": "display_data"
    },
    {
     "data": {
      "image/png": "[encoded data removed]",
      "text/plain": [
       "<Figure size 576x432 with 1 Axes>"
      ]
     },
     "metadata": {
      "needs_background": "light"
     },
     "output_type": "display_data"
    }
   ],
   "source": [
    "xg_class = xgb.XGBClassifier(objective='binary:logistic')\n",
    "\n",
    "# try:\n",
    "#     Xclass_test = Xclass_test.drop(artificial_values_list,axis=1)\n",
    "# except:\n",
    "#     pass\n",
    "classpreds_proba, classpreds, classmodel, best_iteration = train_class(xg_class,Xclass_test)\n",
    "\n",
    "pickle.dump(classmodel, open(\"../models/classifier.pickle.pkl\", \"wb\"))"
   ]
  },
  {
   "cell_type": "code",
   "execution_count": 14,
   "metadata": {},
   "outputs": [
    {
     "data": {
      "text/plain": [
       "0.7192353643966547"
      ]
     },
     "metadata": {},
     "output_type": "display_data"
    },
    {
     "data": {
      "text/plain": [
       "0.7089262613195343"
      ]
     },
     "metadata": {},
     "output_type": "display_data"
    },
    {
     "data": {
      "text/plain": [
       "0.691046658259773"
      ]
     },
     "metadata": {},
     "output_type": "display_data"
    }
   ],
   "source": [
    "display(accuracy_score(yclass_test,classpreds),\n",
    "        precision_score(yclass_test,classpreds),\n",
    "        recall_score(yclass_test,classpreds))"
   ]
  },
  {
   "cell_type": "code",
   "execution_count": 15,
   "metadata": {},
   "outputs": [
    {
     "data": {
      "text/plain": [
       "array([[0.39187575, 0.1344086 ],\n",
       "       [0.14635603, 0.32735962]])"
      ]
     },
     "execution_count": 15,
     "metadata": {},
     "output_type": "execute_result"
    }
   ],
   "source": [
    "confusion_matrix(yclass_test,classpreds,normalize='all')"
   ]
  },
  {
   "cell_type": "code",
   "execution_count": 16,
   "metadata": {},
   "outputs": [
    {
     "data": {
      "text/plain": [
       "(656, 225, 245, 548)"
      ]
     },
     "execution_count": 16,
     "metadata": {},
     "output_type": "execute_result"
    }
   ],
   "source": [
    "(tn, fp, fn, tp) = confusion_matrix(yclass_test,classpreds).ravel()\n",
    "(tn, fp, fn, tp)"
   ]
  },
  {
   "cell_type": "markdown",
   "metadata": {},
   "source": [
    "## Previsão usando preços reduzidos"
   ]
  },
  {
   "cell_type": "code",
   "execution_count": 17,
   "metadata": {},
   "outputs": [
    {
     "data": {
      "text/html": [
       "<div>\n",
       "<style scoped>\n",
       "    .dataframe tbody tr th:only-of-type {\n",
       "        vertical-align: middle;\n",
       "    }\n",
       "\n",
       "    .dataframe tbody tr th {\n",
       "        vertical-align: top;\n",
       "    }\n",
       "\n",
       "    .dataframe thead th {\n",
       "        text-align: right;\n",
       "    }\n",
       "</style>\n",
       "<table border=\"1\" class=\"dataframe\">\n",
       "  <thead>\n",
       "    <tr style=\"text-align: right;\">\n",
       "      <th></th>\n",
       "      <th>rooms</th>\n",
       "      <th>garages</th>\n",
       "      <th>useful_area</th>\n",
       "      <th>latitude</th>\n",
       "      <th>longitude</th>\n",
       "      <th>value</th>\n",
       "      <th>interior_quality</th>\n",
       "      <th>time_on_market</th>\n",
       "      <th>value-5</th>\n",
       "      <th>value-10</th>\n",
       "      <th>value-15</th>\n",
       "      <th>value-20</th>\n",
       "    </tr>\n",
       "  </thead>\n",
       "  <tbody>\n",
       "    <tr>\n",
       "      <th>2847</th>\n",
       "      <td>3.00</td>\n",
       "      <td>2.00</td>\n",
       "      <td>145</td>\n",
       "      <td>-23.55</td>\n",
       "      <td>-46.66</td>\n",
       "      <td>1624930</td>\n",
       "      <td>1</td>\n",
       "      <td>162.16</td>\n",
       "      <td>1,543,683.50</td>\n",
       "      <td>1,462,437.00</td>\n",
       "      <td>1,381,190.50</td>\n",
       "      <td>1,299,944.00</td>\n",
       "    </tr>\n",
       "    <tr>\n",
       "      <th>3508</th>\n",
       "      <td>2.00</td>\n",
       "      <td>2.00</td>\n",
       "      <td>84</td>\n",
       "      <td>-23.60</td>\n",
       "      <td>-46.61</td>\n",
       "      <td>678651</td>\n",
       "      <td>1</td>\n",
       "      <td>94.00</td>\n",
       "      <td>644,718.45</td>\n",
       "      <td>610,785.90</td>\n",
       "      <td>576,853.35</td>\n",
       "      <td>542,920.80</td>\n",
       "    </tr>\n",
       "    <tr>\n",
       "      <th>710</th>\n",
       "      <td>3.00</td>\n",
       "      <td>1.00</td>\n",
       "      <td>98</td>\n",
       "      <td>-23.61</td>\n",
       "      <td>-46.65</td>\n",
       "      <td>692217</td>\n",
       "      <td>1</td>\n",
       "      <td>94.00</td>\n",
       "      <td>657,606.15</td>\n",
       "      <td>622,995.30</td>\n",
       "      <td>588,384.45</td>\n",
       "      <td>553,773.60</td>\n",
       "    </tr>\n",
       "    <tr>\n",
       "      <th>482</th>\n",
       "      <td>2.00</td>\n",
       "      <td>1.00</td>\n",
       "      <td>40</td>\n",
       "      <td>-23.59</td>\n",
       "      <td>-46.69</td>\n",
       "      <td>685313</td>\n",
       "      <td>3</td>\n",
       "      <td>175.97</td>\n",
       "      <td>651,047.35</td>\n",
       "      <td>616,781.70</td>\n",
       "      <td>582,516.05</td>\n",
       "      <td>548,250.40</td>\n",
       "    </tr>\n",
       "    <tr>\n",
       "      <th>1423</th>\n",
       "      <td>3.00</td>\n",
       "      <td>1.00</td>\n",
       "      <td>81</td>\n",
       "      <td>-23.53</td>\n",
       "      <td>-46.73</td>\n",
       "      <td>429364</td>\n",
       "      <td>1</td>\n",
       "      <td>10.00</td>\n",
       "      <td>407,895.80</td>\n",
       "      <td>386,427.60</td>\n",
       "      <td>364,959.40</td>\n",
       "      <td>343,491.20</td>\n",
       "    </tr>\n",
       "    <tr>\n",
       "      <th>...</th>\n",
       "      <td>...</td>\n",
       "      <td>...</td>\n",
       "      <td>...</td>\n",
       "      <td>...</td>\n",
       "      <td>...</td>\n",
       "      <td>...</td>\n",
       "      <td>...</td>\n",
       "      <td>...</td>\n",
       "      <td>...</td>\n",
       "      <td>...</td>\n",
       "      <td>...</td>\n",
       "      <td>...</td>\n",
       "    </tr>\n",
       "    <tr>\n",
       "      <th>2912</th>\n",
       "      <td>2.00</td>\n",
       "      <td>1.00</td>\n",
       "      <td>61</td>\n",
       "      <td>-23.58</td>\n",
       "      <td>-46.64</td>\n",
       "      <td>722747</td>\n",
       "      <td>2</td>\n",
       "      <td>199.00</td>\n",
       "      <td>686,609.65</td>\n",
       "      <td>650,472.30</td>\n",
       "      <td>614,334.95</td>\n",
       "      <td>578,197.60</td>\n",
       "    </tr>\n",
       "    <tr>\n",
       "      <th>6208</th>\n",
       "      <td>1.00</td>\n",
       "      <td>1.00</td>\n",
       "      <td>39</td>\n",
       "      <td>-23.64</td>\n",
       "      <td>-46.64</td>\n",
       "      <td>385129</td>\n",
       "      <td>2</td>\n",
       "      <td>107.00</td>\n",
       "      <td>365,872.55</td>\n",
       "      <td>346,616.10</td>\n",
       "      <td>327,359.65</td>\n",
       "      <td>308,103.20</td>\n",
       "    </tr>\n",
       "    <tr>\n",
       "      <th>4016</th>\n",
       "      <td>4.00</td>\n",
       "      <td>3.00</td>\n",
       "      <td>244</td>\n",
       "      <td>-23.53</td>\n",
       "      <td>-46.73</td>\n",
       "      <td>2005810</td>\n",
       "      <td>2</td>\n",
       "      <td>19.13</td>\n",
       "      <td>1,905,519.50</td>\n",
       "      <td>1,805,229.00</td>\n",
       "      <td>1,704,938.50</td>\n",
       "      <td>1,604,648.00</td>\n",
       "    </tr>\n",
       "    <tr>\n",
       "      <th>328</th>\n",
       "      <td>2.00</td>\n",
       "      <td>2.00</td>\n",
       "      <td>60</td>\n",
       "      <td>-23.64</td>\n",
       "      <td>-46.67</td>\n",
       "      <td>417122</td>\n",
       "      <td>3</td>\n",
       "      <td>127.00</td>\n",
       "      <td>396,265.90</td>\n",
       "      <td>375,409.80</td>\n",
       "      <td>354,553.70</td>\n",
       "      <td>333,697.60</td>\n",
       "    </tr>\n",
       "    <tr>\n",
       "      <th>501</th>\n",
       "      <td>3.00</td>\n",
       "      <td>3.00</td>\n",
       "      <td>94</td>\n",
       "      <td>-23.65</td>\n",
       "      <td>-46.66</td>\n",
       "      <td>780834</td>\n",
       "      <td>2</td>\n",
       "      <td>161.00</td>\n",
       "      <td>741,792.30</td>\n",
       "      <td>702,750.60</td>\n",
       "      <td>663,708.90</td>\n",
       "      <td>624,667.20</td>\n",
       "    </tr>\n",
       "  </tbody>\n",
       "</table>\n",
       "<p>1674 rows × 12 columns</p>\n",
       "</div>"
      ],
      "text/plain": [
       "      rooms  garages  useful_area  latitude  longitude    value  \\\n",
       "2847   3.00     2.00          145    -23.55     -46.66  1624930   \n",
       "3508   2.00     2.00           84    -23.60     -46.61   678651   \n",
       "710    3.00     1.00           98    -23.61     -46.65   692217   \n",
       "482    2.00     1.00           40    -23.59     -46.69   685313   \n",
       "1423   3.00     1.00           81    -23.53     -46.73   429364   \n",
       "...     ...      ...          ...       ...        ...      ...   \n",
       "2912   2.00     1.00           61    -23.58     -46.64   722747   \n",
       "6208   1.00     1.00           39    -23.64     -46.64   385129   \n",
       "4016   4.00     3.00          244    -23.53     -46.73  2005810   \n",
       "328    2.00     2.00           60    -23.64     -46.67   417122   \n",
       "501    3.00     3.00           94    -23.65     -46.66   780834   \n",
       "\n",
       "      interior_quality  time_on_market      value-5     value-10     value-15  \\\n",
       "2847                 1          162.16 1,543,683.50 1,462,437.00 1,381,190.50   \n",
       "3508                 1           94.00   644,718.45   610,785.90   576,853.35   \n",
       "710                  1           94.00   657,606.15   622,995.30   588,384.45   \n",
       "482                  3          175.97   651,047.35   616,781.70   582,516.05   \n",
       "1423                 1           10.00   407,895.80   386,427.60   364,959.40   \n",
       "...                ...             ...          ...          ...          ...   \n",
       "2912                 2          199.00   686,609.65   650,472.30   614,334.95   \n",
       "6208                 2          107.00   365,872.55   346,616.10   327,359.65   \n",
       "4016                 2           19.13 1,905,519.50 1,805,229.00 1,704,938.50   \n",
       "328                  3          127.00   396,265.90   375,409.80   354,553.70   \n",
       "501                  2          161.00   741,792.30   702,750.60   663,708.90   \n",
       "\n",
       "         value-20  \n",
       "2847 1,299,944.00  \n",
       "3508   542,920.80  \n",
       "710    553,773.60  \n",
       "482    548,250.40  \n",
       "1423   343,491.20  \n",
       "...           ...  \n",
       "2912   578,197.60  \n",
       "6208   308,103.20  \n",
       "4016 1,604,648.00  \n",
       "328    333,697.60  \n",
       "501    624,667.20  \n",
       "\n",
       "[1674 rows x 12 columns]"
      ]
     },
     "execution_count": 17,
     "metadata": {},
     "output_type": "execute_result"
    }
   ],
   "source": [
    "Xclass_test"
   ]
  },
  {
   "cell_type": "code",
   "execution_count": 18,
   "metadata": {},
   "outputs": [
    {
     "data": {
      "text/plain": [
       "array(['rooms', 'garages', 'useful_area', 'latitude', 'longitude',\n",
       "       'value', 'interior_quality', 'time_on_market', 'value-5'],\n",
       "      dtype=object)"
      ]
     },
     "execution_count": 18,
     "metadata": {},
     "output_type": "execute_result"
    }
   ],
   "source": [
    "Xclass_test.columns.values[:-3]"
   ]
  },
  {
   "cell_type": "code",
   "execution_count": 19,
   "metadata": {},
   "outputs": [],
   "source": [
    "a = Xclass_test.rename(columns={'value':'drop',\n",
    "                                 'value-5':'value'})\n",
    "a = a.drop(['drop','value-10','value-15','value-20'],axis=1)\n",
    "a = a[Xclass_test.columns.values[:-4]]\n",
    "\n",
    "classpreds5 = classmodel.predict(a, ntree_limit=best_iteration)"
   ]
  },
  {
   "cell_type": "code",
   "execution_count": 20,
   "metadata": {},
   "outputs": [],
   "source": [
    "a = Xclass_test.rename(columns={'value':'drop',\n",
    "                                 'value-10':'value'})\n",
    "a = a.drop(['drop','value-5','value-15','value-20'],axis=1)\n",
    "a = a[Xclass_test.columns.values[:-4]]\n",
    "\n",
    "classpreds10 = classmodel.predict(a, ntree_limit=best_iteration)"
   ]
  },
  {
   "cell_type": "code",
   "execution_count": 21,
   "metadata": {},
   "outputs": [],
   "source": [
    "a = Xclass_test.rename(columns={'value':'drop',\n",
    "                                 'value-15':'value'})\n",
    "a = a.drop(['drop','value-5','value-10','value-20'],axis=1)\n",
    "a = a[Xclass_test.columns.values[:-4]]\n",
    "\n",
    "classpreds15 = classmodel.predict(a, ntree_limit=best_iteration)"
   ]
  },
  {
   "cell_type": "code",
   "execution_count": 22,
   "metadata": {},
   "outputs": [],
   "source": [
    "a = Xclass_test.rename(columns={'value':'drop',\n",
    "                                 'value-20':'value'})\n",
    "a = a.drop(['drop','value-5','value-10','value-15'],axis=1)\n",
    "a = a[Xclass_test.columns.values[:-4]]\n",
    "\n",
    "classpreds20 = classmodel.predict(a, ntree_limit=best_iteration)"
   ]
  },
  {
   "cell_type": "markdown",
   "metadata": {},
   "source": [
    "# Análise dos modelos"
   ]
  },
  {
   "cell_type": "code",
   "execution_count": 23,
   "metadata": {},
   "outputs": [
    {
     "data": {
      "text/html": [
       "<div>\n",
       "<style scoped>\n",
       "    .dataframe tbody tr th:only-of-type {\n",
       "        vertical-align: middle;\n",
       "    }\n",
       "\n",
       "    .dataframe tbody tr th {\n",
       "        vertical-align: top;\n",
       "    }\n",
       "\n",
       "    .dataframe thead th {\n",
       "        text-align: right;\n",
       "    }\n",
       "</style>\n",
       "<table border=\"1\" class=\"dataframe\">\n",
       "  <thead>\n",
       "    <tr style=\"text-align: right;\">\n",
       "      <th></th>\n",
       "      <th>rooms</th>\n",
       "      <th>garages</th>\n",
       "      <th>useful_area</th>\n",
       "      <th>latitude</th>\n",
       "      <th>longitude</th>\n",
       "      <th>value</th>\n",
       "      <th>interior_quality</th>\n",
       "      <th>time_on_market</th>\n",
       "      <th>sold</th>\n",
       "      <th>value-5</th>\n",
       "      <th>...</th>\n",
       "      <th>yregr_test</th>\n",
       "      <th>regrpreds</th>\n",
       "      <th>dist</th>\n",
       "      <th>classpreds</th>\n",
       "      <th>classpreds_proba</th>\n",
       "      <th>misclassified</th>\n",
       "      <th>classpreds-5</th>\n",
       "      <th>classpreds-10</th>\n",
       "      <th>classpreds-15</th>\n",
       "      <th>classpreds-20</th>\n",
       "    </tr>\n",
       "  </thead>\n",
       "  <tbody>\n",
       "    <tr>\n",
       "      <th>2847</th>\n",
       "      <td>3.00</td>\n",
       "      <td>2.00</td>\n",
       "      <td>145</td>\n",
       "      <td>-23.55</td>\n",
       "      <td>-46.66</td>\n",
       "      <td>1624930</td>\n",
       "      <td>1</td>\n",
       "      <td>162.16</td>\n",
       "      <td>0</td>\n",
       "      <td>1,543,683.50</td>\n",
       "      <td>...</td>\n",
       "      <td>1624930</td>\n",
       "      <td>1,527,682.50</td>\n",
       "      <td>-97,247.50</td>\n",
       "      <td>0</td>\n",
       "      <td>0.32</td>\n",
       "      <td>False</td>\n",
       "      <td>0</td>\n",
       "      <td>0</td>\n",
       "      <td>0</td>\n",
       "      <td>0</td>\n",
       "    </tr>\n",
       "    <tr>\n",
       "      <th>3508</th>\n",
       "      <td>2.00</td>\n",
       "      <td>2.00</td>\n",
       "      <td>84</td>\n",
       "      <td>-23.60</td>\n",
       "      <td>-46.61</td>\n",
       "      <td>678651</td>\n",
       "      <td>1</td>\n",
       "      <td>94.00</td>\n",
       "      <td>1</td>\n",
       "      <td>644,718.45</td>\n",
       "      <td>...</td>\n",
       "      <td>678651</td>\n",
       "      <td>745,831.12</td>\n",
       "      <td>67,180.12</td>\n",
       "      <td>1</td>\n",
       "      <td>0.67</td>\n",
       "      <td>False</td>\n",
       "      <td>1</td>\n",
       "      <td>1</td>\n",
       "      <td>1</td>\n",
       "      <td>1</td>\n",
       "    </tr>\n",
       "    <tr>\n",
       "      <th>710</th>\n",
       "      <td>3.00</td>\n",
       "      <td>1.00</td>\n",
       "      <td>98</td>\n",
       "      <td>-23.61</td>\n",
       "      <td>-46.65</td>\n",
       "      <td>692217</td>\n",
       "      <td>1</td>\n",
       "      <td>94.00</td>\n",
       "      <td>1</td>\n",
       "      <td>657,606.15</td>\n",
       "      <td>...</td>\n",
       "      <td>692217</td>\n",
       "      <td>907,575.06</td>\n",
       "      <td>215,358.06</td>\n",
       "      <td>1</td>\n",
       "      <td>0.76</td>\n",
       "      <td>False</td>\n",
       "      <td>1</td>\n",
       "      <td>1</td>\n",
       "      <td>1</td>\n",
       "      <td>1</td>\n",
       "    </tr>\n",
       "    <tr>\n",
       "      <th>482</th>\n",
       "      <td>2.00</td>\n",
       "      <td>1.00</td>\n",
       "      <td>40</td>\n",
       "      <td>-23.59</td>\n",
       "      <td>-46.69</td>\n",
       "      <td>685313</td>\n",
       "      <td>3</td>\n",
       "      <td>175.97</td>\n",
       "      <td>0</td>\n",
       "      <td>651,047.35</td>\n",
       "      <td>...</td>\n",
       "      <td>685313</td>\n",
       "      <td>604,237.00</td>\n",
       "      <td>-81,076.00</td>\n",
       "      <td>0</td>\n",
       "      <td>0.12</td>\n",
       "      <td>False</td>\n",
       "      <td>0</td>\n",
       "      <td>0</td>\n",
       "      <td>0</td>\n",
       "      <td>0</td>\n",
       "    </tr>\n",
       "    <tr>\n",
       "      <th>1423</th>\n",
       "      <td>3.00</td>\n",
       "      <td>1.00</td>\n",
       "      <td>81</td>\n",
       "      <td>-23.53</td>\n",
       "      <td>-46.73</td>\n",
       "      <td>429364</td>\n",
       "      <td>1</td>\n",
       "      <td>10.00</td>\n",
       "      <td>1</td>\n",
       "      <td>407,895.80</td>\n",
       "      <td>...</td>\n",
       "      <td>429364</td>\n",
       "      <td>647,666.06</td>\n",
       "      <td>218,302.06</td>\n",
       "      <td>1</td>\n",
       "      <td>0.83</td>\n",
       "      <td>False</td>\n",
       "      <td>1</td>\n",
       "      <td>1</td>\n",
       "      <td>1</td>\n",
       "      <td>1</td>\n",
       "    </tr>\n",
       "  </tbody>\n",
       "</table>\n",
       "<p>5 rows × 23 columns</p>\n",
       "</div>"
      ],
      "text/plain": [
       "      rooms  garages  useful_area  latitude  longitude    value  \\\n",
       "2847   3.00     2.00          145    -23.55     -46.66  1624930   \n",
       "3508   2.00     2.00           84    -23.60     -46.61   678651   \n",
       "710    3.00     1.00           98    -23.61     -46.65   692217   \n",
       "482    2.00     1.00           40    -23.59     -46.69   685313   \n",
       "1423   3.00     1.00           81    -23.53     -46.73   429364   \n",
       "\n",
       "      interior_quality  time_on_market  sold      value-5  ...  yregr_test  \\\n",
       "2847                 1          162.16     0 1,543,683.50  ...     1624930   \n",
       "3508                 1           94.00     1   644,718.45  ...      678651   \n",
       "710                  1           94.00     1   657,606.15  ...      692217   \n",
       "482                  3          175.97     0   651,047.35  ...      685313   \n",
       "1423                 1           10.00     1   407,895.80  ...      429364   \n",
       "\n",
       "        regrpreds       dist  classpreds  classpreds_proba  misclassified  \\\n",
       "2847 1,527,682.50 -97,247.50           0              0.32          False   \n",
       "3508   745,831.12  67,180.12           1              0.67          False   \n",
       "710    907,575.06 215,358.06           1              0.76          False   \n",
       "482    604,237.00 -81,076.00           0              0.12          False   \n",
       "1423   647,666.06 218,302.06           1              0.83          False   \n",
       "\n",
       "      classpreds-5  classpreds-10  classpreds-15  classpreds-20  \n",
       "2847             0              0              0              0  \n",
       "3508             1              1              1              1  \n",
       "710              1              1              1              1  \n",
       "482              0              0              0              0  \n",
       "1423             1              1              1              1  \n",
       "\n",
       "[5 rows x 23 columns]"
      ]
     },
     "execution_count": 23,
     "metadata": {},
     "output_type": "execute_result"
    }
   ],
   "source": [
    "res = test.copy()\n",
    "\n",
    "### Resultado da regressão\n",
    "res['yregr_test'] = yregr_test\n",
    "res['regrpreds'] = regrpreds\n",
    "res['dist'] = res['regrpreds'] - res['yregr_test']\n",
    "\n",
    "### Resultado da classifcação\n",
    "res['classpreds'] = classpreds\n",
    "res['classpreds_proba'] = classpreds_proba[::,1::]\n",
    "res['misclassified'] = res.apply(lambda x: x['classpreds']!=x['sold'],axis=1)\n",
    "\n",
    "res['classpreds-5'] = classpreds5\n",
    "res['classpreds-10'] = classpreds10\n",
    "res['classpreds-15'] = classpreds15\n",
    "res['classpreds-20'] = classpreds20\n",
    "\n",
    "res.head()"
   ]
  },
  {
   "cell_type": "code",
   "execution_count": 24,
   "metadata": {},
   "outputs": [
    {
     "data": {
      "text/plain": [
       "0    881\n",
       "1    793\n",
       "Name: sold, dtype: int64"
      ]
     },
     "metadata": {},
     "output_type": "display_data"
    },
    {
     "data": {
      "text/plain": [
       "0    901\n",
       "1    773\n",
       "Name: classpreds, dtype: int64"
      ]
     },
     "metadata": {},
     "output_type": "display_data"
    }
   ],
   "source": [
    "display(res.sold.value_counts(),\n",
    "        res.classpreds.value_counts())"
   ]
  },
  {
   "cell_type": "code",
   "execution_count": 25,
   "metadata": {},
   "outputs": [
    {
     "data": {
      "text/plain": [
       "(80, 23)"
      ]
     },
     "metadata": {},
     "output_type": "display_data"
    },
    {
     "data": {
      "text/plain": [
       "(143, 23)"
      ]
     },
     "metadata": {},
     "output_type": "display_data"
    },
    {
     "data": {
      "text/plain": [
       "(218, 23)"
      ]
     },
     "metadata": {},
     "output_type": "display_data"
    },
    {
     "data": {
      "text/plain": [
       "(285, 23)"
      ]
     },
     "metadata": {},
     "output_type": "display_data"
    }
   ],
   "source": [
    "display(res[res['classpreds'] != res['classpreds-5']].shape,\n",
    "        res[res['classpreds'] != res['classpreds-10']].shape,\n",
    "        res[res['classpreds'] != res['classpreds-15']].shape,\n",
    "        res[res['classpreds'] != res['classpreds-20']].shape)"
   ]
  },
  {
   "cell_type": "code",
   "execution_count": 26,
   "metadata": {},
   "outputs": [
    {
     "data": {
      "text/plain": [
       "(470, 23)"
      ]
     },
     "metadata": {},
     "output_type": "display_data"
    },
    {
     "data": {
      "text/plain": [
       "(464, 23)"
      ]
     },
     "metadata": {},
     "output_type": "display_data"
    },
    {
     "data": {
      "text/plain": [
       "(487, 23)"
      ]
     },
     "metadata": {},
     "output_type": "display_data"
    },
    {
     "data": {
      "text/plain": [
       "(502, 23)"
      ]
     },
     "metadata": {},
     "output_type": "display_data"
    },
    {
     "data": {
      "text/plain": [
       "(519, 23)"
      ]
     },
     "metadata": {},
     "output_type": "display_data"
    }
   ],
   "source": [
    "display(res[res['sold'] != res['classpreds']].shape,\n",
    "        res[res['sold'] != res['classpreds-5']].shape,\n",
    "        res[res['sold'] != res['classpreds-10']].shape,\n",
    "        res[res['sold'] != res['classpreds-15']].shape,\n",
    "        res[res['sold'] != res['classpreds-20']].shape)"
   ]
  },
  {
   "cell_type": "code",
   "execution_count": 27,
   "metadata": {},
   "outputs": [
    {
     "data": {
      "text/plain": [
       "(793, 23)"
      ]
     },
     "metadata": {},
     "output_type": "display_data"
    },
    {
     "data": {
      "text/plain": [
       "(245, 23)"
      ]
     },
     "metadata": {},
     "output_type": "display_data"
    },
    {
     "data": {
      "text/plain": [
       "(215, 23)"
      ]
     },
     "metadata": {},
     "output_type": "display_data"
    },
    {
     "data": {
      "text/plain": [
       "(188, 23)"
      ]
     },
     "metadata": {},
     "output_type": "display_data"
    },
    {
     "data": {
      "text/plain": [
       "(162, 23)"
      ]
     },
     "metadata": {},
     "output_type": "display_data"
    },
    {
     "data": {
      "text/plain": [
       "(134, 23)"
      ]
     },
     "metadata": {},
     "output_type": "display_data"
    }
   ],
   "source": [
    "vendidos = res[res['sold']==1]\n",
    "\n",
    "display(vendidos.shape,\n",
    "        vendidos[vendidos['sold'] != vendidos['classpreds']].shape,\n",
    "        vendidos[vendidos['sold'] != vendidos['classpreds-5']].shape,\n",
    "        vendidos[vendidos['sold'] != vendidos['classpreds-10']].shape,\n",
    "        vendidos[vendidos['sold'] != vendidos['classpreds-15']].shape,\n",
    "        vendidos[vendidos['sold'] != vendidos['classpreds-20']].shape)"
   ]
  },
  {
   "cell_type": "code",
   "execution_count": 28,
   "metadata": {},
   "outputs": [],
   "source": [
    "miss = res[res['misclassified']]\n",
    "corr = res[~res['misclassified']]"
   ]
  },
  {
   "cell_type": "code",
   "execution_count": 29,
   "metadata": {},
   "outputs": [
    {
     "data": {
      "text/plain": [
       "'Corretos'"
      ]
     },
     "metadata": {},
     "output_type": "display_data"
    },
    {
     "data": {
      "text/plain": [
       "classpreds\n",
       "0   179.30\n",
       "1    51.59\n",
       "Name: time_on_market, dtype: float64"
      ]
     },
     "metadata": {},
     "output_type": "display_data"
    },
    {
     "data": {
      "text/plain": [
       "classpreds\n",
       "0   1,964,326.27\n",
       "1   1,018,132.84\n",
       "Name: value, dtype: float64"
      ]
     },
     "metadata": {},
     "output_type": "display_data"
    },
    {
     "data": {
      "text/plain": [
       "'Errados'"
      ]
     },
     "metadata": {},
     "output_type": "display_data"
    },
    {
     "data": {
      "text/plain": [
       "classpreds\n",
       "0   136.91\n",
       "1    66.43\n",
       "Name: time_on_market, dtype: float64"
      ]
     },
     "metadata": {},
     "output_type": "display_data"
    },
    {
     "data": {
      "text/plain": [
       "classpreds\n",
       "0   1,740,243.97\n",
       "1   1,130,860.17\n",
       "Name: value, dtype: float64"
      ]
     },
     "metadata": {},
     "output_type": "display_data"
    }
   ],
   "source": [
    "display('Corretos',\n",
    "        corr.groupby('classpreds')['time_on_market'].mean(),\n",
    "        corr.groupby('classpreds')['value'].mean(),\n",
    "        'Errados',\n",
    "        miss.groupby('classpreds')['time_on_market'].mean(),\n",
    "        miss.groupby('classpreds')['value'].mean())"
   ]
  },
  {
   "cell_type": "code",
   "execution_count": 30,
   "metadata": {},
   "outputs": [
    {
     "data": {
      "text/plain": [
       "<matplotlib.axes._subplots.AxesSubplot at 0x7fe6f00ec190>"
      ]
     },
     "execution_count": 30,
     "metadata": {},
     "output_type": "execute_result"
    },
    {
     "data": {
      "image/png": "[encoded data removed]",
      "text/plain": [
       "<Figure size 576x432 with 1 Axes>"
      ]
     },
     "metadata": {
      "needs_background": "light"
     },
     "output_type": "display_data"
    }
   ],
   "source": [
    "sns.distplot(res['dist'])"
   ]
  },
  {
   "cell_type": "markdown",
   "metadata": {},
   "source": [
    "## Salvando com resultado da regressão e da classificação (mudar objetivo da classificação ,precision?)"
   ]
  },
  {
   "cell_type": "markdown",
   "metadata": {},
   "source": [
    "# To-do: prever usando variação de preço, prever time_on_market"
   ]
  },
  {
   "cell_type": "markdown",
   "metadata": {},
   "source": [
    "## Time on market"
   ]
  },
  {
   "cell_type": "code",
   "execution_count": 31,
   "metadata": {},
   "outputs": [],
   "source": [
    "###### dattasets para determinação da liquidez\n",
    "Xtime_train = train.drop([*artificial_values_list,'sold','time_on_market'],axis=1)\n",
    "ytime_train = train['time_on_market']\n",
    "\n",
    "Xtime_test = test.drop([*artificial_values_list,'sold','time_on_market'],axis=1)\n",
    "ytime_test = test['time_on_market']"
   ]
  },
  {
   "cell_type": "code",
   "execution_count": 32,
   "metadata": {},
   "outputs": [
    {
     "data": {
      "text/plain": [
       "2847   162.16\n",
       "3508    94.00\n",
       "710     94.00\n",
       "482    175.97\n",
       "1423    10.00\n",
       "        ...  \n",
       "2912   199.00\n",
       "6208   107.00\n",
       "4016    19.13\n",
       "328    127.00\n",
       "501    161.00\n",
       "Name: time_on_market, Length: 1674, dtype: float64"
      ]
     },
     "execution_count": 32,
     "metadata": {},
     "output_type": "execute_result"
    }
   ],
   "source": [
    "ytime_test"
   ]
  },
  {
   "cell_type": "code",
   "execution_count": 33,
   "metadata": {},
   "outputs": [
    {
     "data": {
      "text/html": [
       "<div>\n",
       "<style scoped>\n",
       "    .dataframe tbody tr th:only-of-type {\n",
       "        vertical-align: middle;\n",
       "    }\n",
       "\n",
       "    .dataframe tbody tr th {\n",
       "        vertical-align: top;\n",
       "    }\n",
       "\n",
       "    .dataframe thead th {\n",
       "        text-align: right;\n",
       "    }\n",
       "</style>\n",
       "<table border=\"1\" class=\"dataframe\">\n",
       "  <thead>\n",
       "    <tr style=\"text-align: right;\">\n",
       "      <th></th>\n",
       "      <th>rooms</th>\n",
       "      <th>garages</th>\n",
       "      <th>useful_area</th>\n",
       "      <th>latitude</th>\n",
       "      <th>longitude</th>\n",
       "      <th>value</th>\n",
       "      <th>interior_quality</th>\n",
       "    </tr>\n",
       "  </thead>\n",
       "  <tbody>\n",
       "    <tr>\n",
       "      <th>2847</th>\n",
       "      <td>3.00</td>\n",
       "      <td>2.00</td>\n",
       "      <td>145</td>\n",
       "      <td>-23.55</td>\n",
       "      <td>-46.66</td>\n",
       "      <td>1624930</td>\n",
       "      <td>1</td>\n",
       "    </tr>\n",
       "    <tr>\n",
       "      <th>3508</th>\n",
       "      <td>2.00</td>\n",
       "      <td>2.00</td>\n",
       "      <td>84</td>\n",
       "      <td>-23.60</td>\n",
       "      <td>-46.61</td>\n",
       "      <td>678651</td>\n",
       "      <td>1</td>\n",
       "    </tr>\n",
       "    <tr>\n",
       "      <th>710</th>\n",
       "      <td>3.00</td>\n",
       "      <td>1.00</td>\n",
       "      <td>98</td>\n",
       "      <td>-23.61</td>\n",
       "      <td>-46.65</td>\n",
       "      <td>692217</td>\n",
       "      <td>1</td>\n",
       "    </tr>\n",
       "    <tr>\n",
       "      <th>482</th>\n",
       "      <td>2.00</td>\n",
       "      <td>1.00</td>\n",
       "      <td>40</td>\n",
       "      <td>-23.59</td>\n",
       "      <td>-46.69</td>\n",
       "      <td>685313</td>\n",
       "      <td>3</td>\n",
       "    </tr>\n",
       "    <tr>\n",
       "      <th>1423</th>\n",
       "      <td>3.00</td>\n",
       "      <td>1.00</td>\n",
       "      <td>81</td>\n",
       "      <td>-23.53</td>\n",
       "      <td>-46.73</td>\n",
       "      <td>429364</td>\n",
       "      <td>1</td>\n",
       "    </tr>\n",
       "    <tr>\n",
       "      <th>...</th>\n",
       "      <td>...</td>\n",
       "      <td>...</td>\n",
       "      <td>...</td>\n",
       "      <td>...</td>\n",
       "      <td>...</td>\n",
       "      <td>...</td>\n",
       "      <td>...</td>\n",
       "    </tr>\n",
       "    <tr>\n",
       "      <th>2912</th>\n",
       "      <td>2.00</td>\n",
       "      <td>1.00</td>\n",
       "      <td>61</td>\n",
       "      <td>-23.58</td>\n",
       "      <td>-46.64</td>\n",
       "      <td>722747</td>\n",
       "      <td>2</td>\n",
       "    </tr>\n",
       "    <tr>\n",
       "      <th>6208</th>\n",
       "      <td>1.00</td>\n",
       "      <td>1.00</td>\n",
       "      <td>39</td>\n",
       "      <td>-23.64</td>\n",
       "      <td>-46.64</td>\n",
       "      <td>385129</td>\n",
       "      <td>2</td>\n",
       "    </tr>\n",
       "    <tr>\n",
       "      <th>4016</th>\n",
       "      <td>4.00</td>\n",
       "      <td>3.00</td>\n",
       "      <td>244</td>\n",
       "      <td>-23.53</td>\n",
       "      <td>-46.73</td>\n",
       "      <td>2005810</td>\n",
       "      <td>2</td>\n",
       "    </tr>\n",
       "    <tr>\n",
       "      <th>328</th>\n",
       "      <td>2.00</td>\n",
       "      <td>2.00</td>\n",
       "      <td>60</td>\n",
       "      <td>-23.64</td>\n",
       "      <td>-46.67</td>\n",
       "      <td>417122</td>\n",
       "      <td>3</td>\n",
       "    </tr>\n",
       "    <tr>\n",
       "      <th>501</th>\n",
       "      <td>3.00</td>\n",
       "      <td>3.00</td>\n",
       "      <td>94</td>\n",
       "      <td>-23.65</td>\n",
       "      <td>-46.66</td>\n",
       "      <td>780834</td>\n",
       "      <td>2</td>\n",
       "    </tr>\n",
       "  </tbody>\n",
       "</table>\n",
       "<p>1674 rows × 7 columns</p>\n",
       "</div>"
      ],
      "text/plain": [
       "      rooms  garages  useful_area  latitude  longitude    value  \\\n",
       "2847   3.00     2.00          145    -23.55     -46.66  1624930   \n",
       "3508   2.00     2.00           84    -23.60     -46.61   678651   \n",
       "710    3.00     1.00           98    -23.61     -46.65   692217   \n",
       "482    2.00     1.00           40    -23.59     -46.69   685313   \n",
       "1423   3.00     1.00           81    -23.53     -46.73   429364   \n",
       "...     ...      ...          ...       ...        ...      ...   \n",
       "2912   2.00     1.00           61    -23.58     -46.64   722747   \n",
       "6208   1.00     1.00           39    -23.64     -46.64   385129   \n",
       "4016   4.00     3.00          244    -23.53     -46.73  2005810   \n",
       "328    2.00     2.00           60    -23.64     -46.67   417122   \n",
       "501    3.00     3.00           94    -23.65     -46.66   780834   \n",
       "\n",
       "      interior_quality  \n",
       "2847                 1  \n",
       "3508                 1  \n",
       "710                  1  \n",
       "482                  3  \n",
       "1423                 1  \n",
       "...                ...  \n",
       "2912                 2  \n",
       "6208                 2  \n",
       "4016                 2  \n",
       "328                  3  \n",
       "501                  2  \n",
       "\n",
       "[1674 rows x 7 columns]"
      ]
     },
     "execution_count": 33,
     "metadata": {},
     "output_type": "execute_result"
    }
   ],
   "source": [
    "Xtime_test"
   ]
  },
  {
   "cell_type": "code",
   "execution_count": 34,
   "metadata": {
    "tags": []
   },
   "outputs": [
    {
     "name": "stdout",
     "output_type": "stream",
     "text": [
      "[0]\tvalidation_0-rmse:121.51765\tvalidation_1-rmse:124.18198\n",
      "Multiple eval metrics have been passed: 'validation_1-rmse' will be used for early stopping.\n",
      "\n",
      "Will train until validation_1-rmse hasn't improved in 5 rounds.\n",
      "[1]\tvalidation_0-rmse:105.46608\tvalidation_1-rmse:108.96960\n",
      "[2]\tvalidation_0-rmse:96.07051\tvalidation_1-rmse:100.40691\n",
      "[3]\tvalidation_0-rmse:90.79779\tvalidation_1-rmse:95.74065\n",
      "[4]\tvalidation_0-rmse:87.69346\tvalidation_1-rmse:93.41237\n",
      "[5]\tvalidation_0-rmse:85.69992\tvalidation_1-rmse:92.24584\n",
      "[6]\tvalidation_0-rmse:84.35766\tvalidation_1-rmse:91.86320\n",
      "[7]\tvalidation_0-rmse:83.36959\tvalidation_1-rmse:91.48299\n",
      "[8]\tvalidation_0-rmse:82.90150\tvalidation_1-rmse:91.31648\n",
      "[9]\tvalidation_0-rmse:81.91197\tvalidation_1-rmse:91.28407\n",
      "[10]\tvalidation_0-rmse:81.52754\tvalidation_1-rmse:91.21950\n",
      "[11]\tvalidation_0-rmse:81.21506\tvalidation_1-rmse:91.26169\n",
      "[12]\tvalidation_0-rmse:80.72149\tvalidation_1-rmse:91.27073\n",
      "[13]\tvalidation_0-rmse:80.41281\tvalidation_1-rmse:91.22498\n",
      "[14]\tvalidation_0-rmse:80.16269\tvalidation_1-rmse:91.28024\n",
      "[15]\tvalidation_0-rmse:80.02318\tvalidation_1-rmse:91.28748\n",
      "Stopping. Best iteration:\n",
      "[10]\tvalidation_0-rmse:81.52754\tvalidation_1-rmse:91.21950\n",
      "\n"
     ]
    },
    {
     "data": {
      "image/png": "[encoded data removed]",
      "text/plain": [
       "<Figure size 576x432 with 1 Axes>"
      ]
     },
     "metadata": {
      "needs_background": "light"
     },
     "output_type": "display_data"
    },
    {
     "data": {
      "image/png": "[encoded data removed]",
      "text/plain": [
       "<Figure size 576x432 with 1 Axes>"
      ]
     },
     "metadata": {},
     "output_type": "display_data"
    },
    {
     "name": "stdout",
     "output_type": "stream",
     "text": [
      "Best iteration: 11.000000\n",
      "RMSE: 91.219503\n",
      "R2: 0.089750\n",
      "Observed value single sample: 162.1562628026571\n",
      "Predicted value single sample: 108\n"
     ]
    }
   ],
   "source": [
    "xg_timeregr = xgb.XGBRegressor()\n",
    "\n",
    "xg_timeregr.fit(Xtime_train, ytime_train,\n",
    "            eval_set = [(Xtime_train, ytime_train), (Xtime_test, ytime_test)],\n",
    "            eval_metric = 'rmse',\n",
    "            early_stopping_rounds = 5,\n",
    "            verbose=True)\n",
    "\n",
    "timebest_iteration = xg_timeregr.get_booster().best_ntree_limit\n",
    "timepreds = xg_timeregr.predict(Xtime_test, ntree_limit=timebest_iteration)\n",
    "\n",
    "\n",
    "evaluate_metrics(timepreds, ytime_test, Xtime_test, xg_timeregr, timebest_iteration)\n",
    "\n",
    "pickle.dump(xg_timeregr, open(\"../models/time-regressor.pickle.pkl\", \"wb\"))"
   ]
  },
  {
   "cell_type": "code",
   "execution_count": 35,
   "metadata": {},
   "outputs": [],
   "source": [
    "### Test\n",
    "Xtime_test2 = test.drop(['sold','time_on_market'],axis=1)\n",
    "\n",
    "b = Xtime_test2.rename(columns={'value':'drop',\n",
    "                                'value-5':'value'})\n",
    "b = b.drop(['drop','value-10','value-15','value-20'],axis=1)\n",
    "b = b[Xtime_test2.columns.values[:-4]]\n",
    "\n",
    "timepreds5 = xg_timeregr.predict(b, ntree_limit=timebest_iteration)"
   ]
  },
  {
   "cell_type": "code",
   "execution_count": 36,
   "metadata": {},
   "outputs": [],
   "source": [
    "### Test\n",
    "Xtime_test2 = test.drop(['sold','time_on_market'],axis=1)\n",
    "\n",
    "b = Xtime_test2.rename(columns={'value':'drop',\n",
    "                                'value-10':'value'})\n",
    "b = b.drop(['drop','value-5','value-15','value-20'],axis=1)\n",
    "b = b[Xtime_test2.columns.values[:-4]]\n",
    "\n",
    "timepreds10 = xg_timeregr.predict(b, ntree_limit=timebest_iteration)"
   ]
  },
  {
   "cell_type": "code",
   "execution_count": 37,
   "metadata": {},
   "outputs": [],
   "source": [
    "### Test\n",
    "Xtime_test2 = test.drop(['sold','time_on_market'],axis=1)\n",
    "\n",
    "b = Xtime_test2.rename(columns={'value':'drop',\n",
    "                                'value-15':'value'})\n",
    "b = b.drop(['drop','value-10','value-5','value-20'],axis=1)\n",
    "b = b[Xtime_test2.columns.values[:-4]]\n",
    "\n",
    "timepreds15 = xg_timeregr.predict(b, ntree_limit=timebest_iteration)"
   ]
  },
  {
   "cell_type": "code",
   "execution_count": 38,
   "metadata": {},
   "outputs": [],
   "source": [
    "### Test\n",
    "Xtime_test2 = test.drop(['sold','time_on_market'],axis=1)\n",
    "\n",
    "b = Xtime_test2.rename(columns={'value':'drop',\n",
    "                                'value-20':'value'})\n",
    "b = b.drop(['drop','value-10','value-15','value-5'],axis=1)\n",
    "b = b[Xtime_test2.columns.values[:-4]]\n",
    "\n",
    "timepreds20 = xg_timeregr.predict(b, ntree_limit=timebest_iteration)"
   ]
  },
  {
   "cell_type": "code",
   "execution_count": 39,
   "metadata": {},
   "outputs": [],
   "source": [
    "res['timepreds'] = timepreds\n",
    "res['timepreds-5'] = timepreds5\n",
    "res['timepreds-10'] = timepreds10\n",
    "res['timepreds-15'] = timepreds15\n",
    "res['timepreds-20'] = timepreds20"
   ]
  },
  {
   "cell_type": "code",
   "execution_count": 40,
   "metadata": {},
   "outputs": [
    {
     "data": {
      "text/html": [
       "<div>\n",
       "<style scoped>\n",
       "    .dataframe tbody tr th:only-of-type {\n",
       "        vertical-align: middle;\n",
       "    }\n",
       "\n",
       "    .dataframe tbody tr th {\n",
       "        vertical-align: top;\n",
       "    }\n",
       "\n",
       "    .dataframe thead th {\n",
       "        text-align: right;\n",
       "    }\n",
       "</style>\n",
       "<table border=\"1\" class=\"dataframe\">\n",
       "  <thead>\n",
       "    <tr style=\"text-align: right;\">\n",
       "      <th></th>\n",
       "      <th>rooms</th>\n",
       "      <th>garages</th>\n",
       "      <th>useful_area</th>\n",
       "      <th>latitude</th>\n",
       "      <th>longitude</th>\n",
       "      <th>value</th>\n",
       "      <th>interior_quality</th>\n",
       "      <th>time_on_market</th>\n",
       "      <th>sold</th>\n",
       "      <th>value-5</th>\n",
       "      <th>...</th>\n",
       "      <th>misclassified</th>\n",
       "      <th>classpreds-5</th>\n",
       "      <th>classpreds-10</th>\n",
       "      <th>classpreds-15</th>\n",
       "      <th>classpreds-20</th>\n",
       "      <th>timepreds</th>\n",
       "      <th>timepreds-5</th>\n",
       "      <th>timepreds-10</th>\n",
       "      <th>timepreds-15</th>\n",
       "      <th>timepreds-20</th>\n",
       "    </tr>\n",
       "  </thead>\n",
       "  <tbody>\n",
       "    <tr>\n",
       "      <th>2847</th>\n",
       "      <td>3.00</td>\n",
       "      <td>2.00</td>\n",
       "      <td>145</td>\n",
       "      <td>-23.55</td>\n",
       "      <td>-46.66</td>\n",
       "      <td>1624930</td>\n",
       "      <td>1</td>\n",
       "      <td>162.16</td>\n",
       "      <td>0</td>\n",
       "      <td>1,543,683.50</td>\n",
       "      <td>...</td>\n",
       "      <td>False</td>\n",
       "      <td>0</td>\n",
       "      <td>0</td>\n",
       "      <td>0</td>\n",
       "      <td>0</td>\n",
       "      <td>108.82</td>\n",
       "      <td>101.38</td>\n",
       "      <td>101.38</td>\n",
       "      <td>89.79</td>\n",
       "      <td>112.00</td>\n",
       "    </tr>\n",
       "    <tr>\n",
       "      <th>3508</th>\n",
       "      <td>2.00</td>\n",
       "      <td>2.00</td>\n",
       "      <td>84</td>\n",
       "      <td>-23.60</td>\n",
       "      <td>-46.61</td>\n",
       "      <td>678651</td>\n",
       "      <td>1</td>\n",
       "      <td>94.00</td>\n",
       "      <td>1</td>\n",
       "      <td>644,718.45</td>\n",
       "      <td>...</td>\n",
       "      <td>False</td>\n",
       "      <td>1</td>\n",
       "      <td>1</td>\n",
       "      <td>1</td>\n",
       "      <td>1</td>\n",
       "      <td>74.13</td>\n",
       "      <td>82.64</td>\n",
       "      <td>77.97</td>\n",
       "      <td>77.97</td>\n",
       "      <td>72.04</td>\n",
       "    </tr>\n",
       "    <tr>\n",
       "      <th>710</th>\n",
       "      <td>3.00</td>\n",
       "      <td>1.00</td>\n",
       "      <td>98</td>\n",
       "      <td>-23.61</td>\n",
       "      <td>-46.65</td>\n",
       "      <td>692217</td>\n",
       "      <td>1</td>\n",
       "      <td>94.00</td>\n",
       "      <td>1</td>\n",
       "      <td>657,606.15</td>\n",
       "      <td>...</td>\n",
       "      <td>False</td>\n",
       "      <td>1</td>\n",
       "      <td>1</td>\n",
       "      <td>1</td>\n",
       "      <td>1</td>\n",
       "      <td>78.33</td>\n",
       "      <td>78.87</td>\n",
       "      <td>78.87</td>\n",
       "      <td>62.49</td>\n",
       "      <td>56.56</td>\n",
       "    </tr>\n",
       "    <tr>\n",
       "      <th>482</th>\n",
       "      <td>2.00</td>\n",
       "      <td>1.00</td>\n",
       "      <td>40</td>\n",
       "      <td>-23.59</td>\n",
       "      <td>-46.69</td>\n",
       "      <td>685313</td>\n",
       "      <td>3</td>\n",
       "      <td>175.97</td>\n",
       "      <td>0</td>\n",
       "      <td>651,047.35</td>\n",
       "      <td>...</td>\n",
       "      <td>False</td>\n",
       "      <td>0</td>\n",
       "      <td>0</td>\n",
       "      <td>0</td>\n",
       "      <td>0</td>\n",
       "      <td>139.74</td>\n",
       "      <td>134.34</td>\n",
       "      <td>134.34</td>\n",
       "      <td>126.49</td>\n",
       "      <td>116.74</td>\n",
       "    </tr>\n",
       "    <tr>\n",
       "      <th>1423</th>\n",
       "      <td>3.00</td>\n",
       "      <td>1.00</td>\n",
       "      <td>81</td>\n",
       "      <td>-23.53</td>\n",
       "      <td>-46.73</td>\n",
       "      <td>429364</td>\n",
       "      <td>1</td>\n",
       "      <td>10.00</td>\n",
       "      <td>1</td>\n",
       "      <td>407,895.80</td>\n",
       "      <td>...</td>\n",
       "      <td>False</td>\n",
       "      <td>1</td>\n",
       "      <td>1</td>\n",
       "      <td>1</td>\n",
       "      <td>1</td>\n",
       "      <td>44.80</td>\n",
       "      <td>27.49</td>\n",
       "      <td>43.69</td>\n",
       "      <td>43.69</td>\n",
       "      <td>43.69</td>\n",
       "    </tr>\n",
       "    <tr>\n",
       "      <th>...</th>\n",
       "      <td>...</td>\n",
       "      <td>...</td>\n",
       "      <td>...</td>\n",
       "      <td>...</td>\n",
       "      <td>...</td>\n",
       "      <td>...</td>\n",
       "      <td>...</td>\n",
       "      <td>...</td>\n",
       "      <td>...</td>\n",
       "      <td>...</td>\n",
       "      <td>...</td>\n",
       "      <td>...</td>\n",
       "      <td>...</td>\n",
       "      <td>...</td>\n",
       "      <td>...</td>\n",
       "      <td>...</td>\n",
       "      <td>...</td>\n",
       "      <td>...</td>\n",
       "      <td>...</td>\n",
       "      <td>...</td>\n",
       "      <td>...</td>\n",
       "    </tr>\n",
       "    <tr>\n",
       "      <th>2912</th>\n",
       "      <td>2.00</td>\n",
       "      <td>1.00</td>\n",
       "      <td>61</td>\n",
       "      <td>-23.58</td>\n",
       "      <td>-46.64</td>\n",
       "      <td>722747</td>\n",
       "      <td>2</td>\n",
       "      <td>199.00</td>\n",
       "      <td>1</td>\n",
       "      <td>686,609.65</td>\n",
       "      <td>...</td>\n",
       "      <td>True</td>\n",
       "      <td>0</td>\n",
       "      <td>0</td>\n",
       "      <td>0</td>\n",
       "      <td>0</td>\n",
       "      <td>128.79</td>\n",
       "      <td>120.78</td>\n",
       "      <td>107.56</td>\n",
       "      <td>107.56</td>\n",
       "      <td>99.72</td>\n",
       "    </tr>\n",
       "    <tr>\n",
       "      <th>6208</th>\n",
       "      <td>1.00</td>\n",
       "      <td>1.00</td>\n",
       "      <td>39</td>\n",
       "      <td>-23.64</td>\n",
       "      <td>-46.64</td>\n",
       "      <td>385129</td>\n",
       "      <td>2</td>\n",
       "      <td>107.00</td>\n",
       "      <td>1</td>\n",
       "      <td>365,872.55</td>\n",
       "      <td>...</td>\n",
       "      <td>False</td>\n",
       "      <td>1</td>\n",
       "      <td>1</td>\n",
       "      <td>1</td>\n",
       "      <td>1</td>\n",
       "      <td>98.79</td>\n",
       "      <td>98.79</td>\n",
       "      <td>90.98</td>\n",
       "      <td>75.86</td>\n",
       "      <td>74.33</td>\n",
       "    </tr>\n",
       "    <tr>\n",
       "      <th>4016</th>\n",
       "      <td>4.00</td>\n",
       "      <td>3.00</td>\n",
       "      <td>244</td>\n",
       "      <td>-23.53</td>\n",
       "      <td>-46.73</td>\n",
       "      <td>2005810</td>\n",
       "      <td>2</td>\n",
       "      <td>19.13</td>\n",
       "      <td>0</td>\n",
       "      <td>1,905,519.50</td>\n",
       "      <td>...</td>\n",
       "      <td>False</td>\n",
       "      <td>0</td>\n",
       "      <td>0</td>\n",
       "      <td>1</td>\n",
       "      <td>1</td>\n",
       "      <td>138.01</td>\n",
       "      <td>153.08</td>\n",
       "      <td>146.90</td>\n",
       "      <td>146.90</td>\n",
       "      <td>147.40</td>\n",
       "    </tr>\n",
       "    <tr>\n",
       "      <th>328</th>\n",
       "      <td>2.00</td>\n",
       "      <td>2.00</td>\n",
       "      <td>60</td>\n",
       "      <td>-23.64</td>\n",
       "      <td>-46.67</td>\n",
       "      <td>417122</td>\n",
       "      <td>3</td>\n",
       "      <td>127.00</td>\n",
       "      <td>1</td>\n",
       "      <td>396,265.90</td>\n",
       "      <td>...</td>\n",
       "      <td>False</td>\n",
       "      <td>1</td>\n",
       "      <td>1</td>\n",
       "      <td>1</td>\n",
       "      <td>1</td>\n",
       "      <td>53.93</td>\n",
       "      <td>53.93</td>\n",
       "      <td>53.93</td>\n",
       "      <td>53.93</td>\n",
       "      <td>51.11</td>\n",
       "    </tr>\n",
       "    <tr>\n",
       "      <th>501</th>\n",
       "      <td>3.00</td>\n",
       "      <td>3.00</td>\n",
       "      <td>94</td>\n",
       "      <td>-23.65</td>\n",
       "      <td>-46.66</td>\n",
       "      <td>780834</td>\n",
       "      <td>2</td>\n",
       "      <td>161.00</td>\n",
       "      <td>1</td>\n",
       "      <td>741,792.30</td>\n",
       "      <td>...</td>\n",
       "      <td>False</td>\n",
       "      <td>1</td>\n",
       "      <td>1</td>\n",
       "      <td>1</td>\n",
       "      <td>1</td>\n",
       "      <td>84.12</td>\n",
       "      <td>75.48</td>\n",
       "      <td>75.48</td>\n",
       "      <td>75.21</td>\n",
       "      <td>75.21</td>\n",
       "    </tr>\n",
       "  </tbody>\n",
       "</table>\n",
       "<p>1674 rows × 28 columns</p>\n",
       "</div>"
      ],
      "text/plain": [
       "      rooms  garages  useful_area  latitude  longitude    value  \\\n",
       "2847   3.00     2.00          145    -23.55     -46.66  1624930   \n",
       "3508   2.00     2.00           84    -23.60     -46.61   678651   \n",
       "710    3.00     1.00           98    -23.61     -46.65   692217   \n",
       "482    2.00     1.00           40    -23.59     -46.69   685313   \n",
       "1423   3.00     1.00           81    -23.53     -46.73   429364   \n",
       "...     ...      ...          ...       ...        ...      ...   \n",
       "2912   2.00     1.00           61    -23.58     -46.64   722747   \n",
       "6208   1.00     1.00           39    -23.64     -46.64   385129   \n",
       "4016   4.00     3.00          244    -23.53     -46.73  2005810   \n",
       "328    2.00     2.00           60    -23.64     -46.67   417122   \n",
       "501    3.00     3.00           94    -23.65     -46.66   780834   \n",
       "\n",
       "      interior_quality  time_on_market  sold      value-5  ...  misclassified  \\\n",
       "2847                 1          162.16     0 1,543,683.50  ...          False   \n",
       "3508                 1           94.00     1   644,718.45  ...          False   \n",
       "710                  1           94.00     1   657,606.15  ...          False   \n",
       "482                  3          175.97     0   651,047.35  ...          False   \n",
       "1423                 1           10.00     1   407,895.80  ...          False   \n",
       "...                ...             ...   ...          ...  ...            ...   \n",
       "2912                 2          199.00     1   686,609.65  ...           True   \n",
       "6208                 2          107.00     1   365,872.55  ...          False   \n",
       "4016                 2           19.13     0 1,905,519.50  ...          False   \n",
       "328                  3          127.00     1   396,265.90  ...          False   \n",
       "501                  2          161.00     1   741,792.30  ...          False   \n",
       "\n",
       "      classpreds-5  classpreds-10  classpreds-15  classpreds-20  timepreds  \\\n",
       "2847             0              0              0              0     108.82   \n",
       "3508             1              1              1              1      74.13   \n",
       "710              1              1              1              1      78.33   \n",
       "482              0              0              0              0     139.74   \n",
       "1423             1              1              1              1      44.80   \n",
       "...            ...            ...            ...            ...        ...   \n",
       "2912             0              0              0              0     128.79   \n",
       "6208             1              1              1              1      98.79   \n",
       "4016             0              0              1              1     138.01   \n",
       "328              1              1              1              1      53.93   \n",
       "501              1              1              1              1      84.12   \n",
       "\n",
       "      timepreds-5  timepreds-10  timepreds-15  timepreds-20  \n",
       "2847       101.38        101.38         89.79        112.00  \n",
       "3508        82.64         77.97         77.97         72.04  \n",
       "710         78.87         78.87         62.49         56.56  \n",
       "482        134.34        134.34        126.49        116.74  \n",
       "1423        27.49         43.69         43.69         43.69  \n",
       "...           ...           ...           ...           ...  \n",
       "2912       120.78        107.56        107.56         99.72  \n",
       "6208        98.79         90.98         75.86         74.33  \n",
       "4016       153.08        146.90        146.90        147.40  \n",
       "328         53.93         53.93         53.93         51.11  \n",
       "501         75.48         75.48         75.21         75.21  \n",
       "\n",
       "[1674 rows x 28 columns]"
      ]
     },
     "execution_count": 40,
     "metadata": {},
     "output_type": "execute_result"
    }
   ],
   "source": [
    "res"
   ]
  },
  {
   "cell_type": "code",
   "execution_count": 41,
   "metadata": {},
   "outputs": [],
   "source": [
    "res['dist20'] = res['timepreds-20'] - res['timepreds']\n",
    "res['dist15'] = res['timepreds-15'] - res['timepreds']\n",
    "res['dist10'] = res['timepreds-10'] - res['timepreds']\n",
    "res['dist5'] = res['timepreds-5'] - res['timepreds']"
   ]
  },
  {
   "cell_type": "code",
   "execution_count": 42,
   "metadata": {},
   "outputs": [
    {
     "name": "stderr",
     "output_type": "stream",
     "text": [
      "/Users/VFX/Coding/GitHub/portfolio-strategy/.env/lib/python3.7/site-packages/seaborn/axisgrid.py:243: UserWarning: The `size` parameter has been renamed to `height`; please update your code.\n",
      "  warnings.warn(msg, UserWarning)\n"
     ]
    },
    {
     "data": {
      "image/png": "[encoded data removed]",
      "text/plain": [
       "<Figure size 720x720 with 4 Axes>"
      ]
     },
     "metadata": {
      "needs_background": "light"
     },
     "output_type": "display_data"
    }
   ],
   "source": [
    "def distplot(x, **kwargs):\n",
    "    sns.distplot(x)\n",
    "\n",
    "var_list = ['dist20','dist15','dist10','dist5']\n",
    "\n",
    "f = pd.melt(res, value_vars=var_list)\n",
    "g = sns.FacetGrid(f, col=\"variable\",  col_wrap=2, sharex=False, sharey=False, size=5)\n",
    "g = g.map(distplot,\"value\")"
   ]
  },
  {
   "cell_type": "code",
   "execution_count": 43,
   "metadata": {},
   "outputs": [
    {
     "data": {
      "text/html": [
       "<div>\n",
       "<style scoped>\n",
       "    .dataframe tbody tr th:only-of-type {\n",
       "        vertical-align: middle;\n",
       "    }\n",
       "\n",
       "    .dataframe tbody tr th {\n",
       "        vertical-align: top;\n",
       "    }\n",
       "\n",
       "    .dataframe thead th {\n",
       "        text-align: right;\n",
       "    }\n",
       "</style>\n",
       "<table border=\"1\" class=\"dataframe\">\n",
       "  <thead>\n",
       "    <tr style=\"text-align: right;\">\n",
       "      <th></th>\n",
       "      <th>variable</th>\n",
       "      <th>value</th>\n",
       "    </tr>\n",
       "  </thead>\n",
       "  <tbody>\n",
       "    <tr>\n",
       "      <th>0</th>\n",
       "      <td>dist20</td>\n",
       "      <td>3.18</td>\n",
       "    </tr>\n",
       "    <tr>\n",
       "      <th>1</th>\n",
       "      <td>dist20</td>\n",
       "      <td>-2.09</td>\n",
       "    </tr>\n",
       "    <tr>\n",
       "      <th>2</th>\n",
       "      <td>dist20</td>\n",
       "      <td>-21.76</td>\n",
       "    </tr>\n",
       "    <tr>\n",
       "      <th>3</th>\n",
       "      <td>dist20</td>\n",
       "      <td>-23.01</td>\n",
       "    </tr>\n",
       "    <tr>\n",
       "      <th>4</th>\n",
       "      <td>dist20</td>\n",
       "      <td>-1.12</td>\n",
       "    </tr>\n",
       "    <tr>\n",
       "      <th>...</th>\n",
       "      <td>...</td>\n",
       "      <td>...</td>\n",
       "    </tr>\n",
       "    <tr>\n",
       "      <th>6691</th>\n",
       "      <td>dist5</td>\n",
       "      <td>-8.02</td>\n",
       "    </tr>\n",
       "    <tr>\n",
       "      <th>6692</th>\n",
       "      <td>dist5</td>\n",
       "      <td>0.00</td>\n",
       "    </tr>\n",
       "    <tr>\n",
       "      <th>6693</th>\n",
       "      <td>dist5</td>\n",
       "      <td>15.07</td>\n",
       "    </tr>\n",
       "    <tr>\n",
       "      <th>6694</th>\n",
       "      <td>dist5</td>\n",
       "      <td>0.00</td>\n",
       "    </tr>\n",
       "    <tr>\n",
       "      <th>6695</th>\n",
       "      <td>dist5</td>\n",
       "      <td>-8.64</td>\n",
       "    </tr>\n",
       "  </tbody>\n",
       "</table>\n",
       "<p>6696 rows × 2 columns</p>\n",
       "</div>"
      ],
      "text/plain": [
       "     variable  value\n",
       "0      dist20   3.18\n",
       "1      dist20  -2.09\n",
       "2      dist20 -21.76\n",
       "3      dist20 -23.01\n",
       "4      dist20  -1.12\n",
       "...       ...    ...\n",
       "6691    dist5  -8.02\n",
       "6692    dist5   0.00\n",
       "6693    dist5  15.07\n",
       "6694    dist5   0.00\n",
       "6695    dist5  -8.64\n",
       "\n",
       "[6696 rows x 2 columns]"
      ]
     },
     "execution_count": 43,
     "metadata": {},
     "output_type": "execute_result"
    }
   ],
   "source": [
    "f"
   ]
  },
  {
   "cell_type": "code",
   "execution_count": 44,
   "metadata": {},
   "outputs": [
    {
     "data": {
      "text/plain": [
       "variable\n",
       "dist10   -10.17\n",
       "dist15   -15.81\n",
       "dist20   -21.16\n",
       "dist5     -5.42\n",
       "Name: value, dtype: float32"
      ]
     },
     "execution_count": 44,
     "metadata": {},
     "output_type": "execute_result"
    }
   ],
   "source": [
    "f.groupby('variable')['value'].mean()"
   ]
  },
  {
   "cell_type": "code",
   "execution_count": 45,
   "metadata": {},
   "outputs": [
    {
     "data": {
      "text/plain": [
       "variable  increase\n",
       "dist10    False      0.84\n",
       "          True       0.16\n",
       "dist15    False      0.87\n",
       "          True       0.13\n",
       "dist20    False      0.91\n",
       "          True       0.09\n",
       "dist5     False      0.87\n",
       "          True       0.13\n",
       "Name: increase, dtype: float64"
      ]
     },
     "execution_count": 45,
     "metadata": {},
     "output_type": "execute_result"
    }
   ],
   "source": [
    "def pos(x):\n",
    "    return x > 0\n",
    "f['increase'] = f.value.apply(pos)\n",
    "\n",
    "f.groupby('variable')['increase'].value_counts(normalize=True)"
   ]
  },
  {
   "cell_type": "markdown",
   "metadata": {},
   "source": [
    "## Save"
   ]
  },
  {
   "cell_type": "code",
   "execution_count": 46,
   "metadata": {},
   "outputs": [],
   "source": [
    "res.to_csv('../data/interim/model_analysis.csv')"
   ]
  },
  {
   "cell_type": "code",
   "execution_count": null,
   "metadata": {},
   "outputs": [],
   "source": []
  }
 ],
 "metadata": {
  "kernelspec": {
   "display_name": "Python 3.7.7 64-bit ('.env': conda)",
   "language": "python",
   "name": "python37764bitenvconda351cf5d7e195478e81aa523f5ea67a05"
  },
  "language_info": {
   "codemirror_mode": {
    "name": "ipython",
    "version": 3
   },
   "file_extension": ".py",
   "mimetype": "text/x-python",
   "name": "python",
   "nbconvert_exporter": "python",
   "pygments_lexer": "ipython3",
   "version": "3.7.7"
  }
 },
 "nbformat": 4,
 "nbformat_minor": 4
}
